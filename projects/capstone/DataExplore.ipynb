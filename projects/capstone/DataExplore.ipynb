{
 "cells": [
  {
   "cell_type": "markdown",
   "metadata": {},
   "source": [
    "### Data source [NCES](http://nces.ed.gov/ipeds/deltacostproject/)\n",
    "\n",
    "The data is publicly available from National Center of Education Statistics (NCES). The Integrated Postsecondary Education Data System (IPEDS) data includes includes academic years from 19887 through 2012. The data  derived from the institutional characteristics, finance, enrollment, completions, graduation rates, student financial aid, and human resources IPEDS survey components and a limited number of outside sources. The database contains one observation per institution for each year of data that is available; it includes all institutions that reported institutional characteristic data to IPEDS in the fall of each academic year. \n",
    "\n",
    "To allow for trends analyses that are not affected by institutions entering or leaving the dataset, the database includes variables to identify panels of institutions that report data consistently over specified time periods. These institutional panels are referred to as “matched sets.” To be included in the matched set, an institution must have data on three measures—fall full-time equivalent (FTE) student enrollment, instructional expenditures, and student completions—for every year in the panel time period. There are three different matched sets that cover different time periods: 1987-2012, 2002-2012, and 2007-2012. \n",
    "\n",
    "By analysing the data, we try to answer the following questions:\n",
    "1. What types of financial aid are most effective in maximizing completion rates?\n",
    "2. What types of financial aid are most effective in minimizing student loan burdens?\n",
    "3. What types of financial aid are most effective in maintaining well-funded schools? \n",
    "\n",
    "some fearues:\n",
    "1. totalcompletions_100fte: total completions per 100 FTE students\n"
   ]
  },
  {
   "cell_type": "code",
   "execution_count": 1,
   "metadata": {
    "collapsed": true
   },
   "outputs": [],
   "source": [
    "import numpy as np\n",
    "import pandas as pd\n",
    "from pandas import Series, DataFrame\n",
    "from IPython.display import display"
   ]
  },
  {
   "cell_type": "code",
   "execution_count": 33,
   "metadata": {
    "collapsed": false
   },
   "outputs": [
    {
     "data": {
      "text/plain": [
       "(128053, 974)"
      ]
     },
     "execution_count": 33,
     "metadata": {},
     "output_type": "execute_result"
    }
   ],
   "source": [
    "dt_8799 = pd.read_csv('delta_public_87_99.csv' , low_memory=False)\n",
    "dt_8799.shape"
   ]
  },
  {
   "cell_type": "code",
   "execution_count": 3,
   "metadata": {
    "collapsed": false
   },
   "outputs": [
    {
     "data": {
      "text/html": [
       "<div>\n",
       "<table border=\"1\" class=\"dataframe\">\n",
       "  <thead>\n",
       "    <tr style=\"text-align: right;\">\n",
       "      <th></th>\n",
       "      <th>groupid</th>\n",
       "      <th>academicyear</th>\n",
       "      <th>unitid_linchpin</th>\n",
       "      <th>unitid</th>\n",
       "      <th>isgrouped</th>\n",
       "      <th>instname</th>\n",
       "      <th>TCSName</th>\n",
       "      <th>city</th>\n",
       "      <th>state</th>\n",
       "      <th>zip</th>\n",
       "      <th>...</th>\n",
       "      <th>Iptall1</th>\n",
       "      <th>Iptall2</th>\n",
       "      <th>Iptall3</th>\n",
       "      <th>Iptall4</th>\n",
       "      <th>Iptall5</th>\n",
       "      <th>Iptall6</th>\n",
       "      <th>Iptall7</th>\n",
       "      <th>Iptall8</th>\n",
       "      <th>Ifaculty_instr_headcount</th>\n",
       "      <th>Isalarytotal</th>\n",
       "    </tr>\n",
       "  </thead>\n",
       "  <tbody>\n",
       "    <tr>\n",
       "      <th>0</th>\n",
       "      <td>-475291</td>\n",
       "      <td>2012</td>\n",
       "      <td>475291</td>\n",
       "      <td>475291</td>\n",
       "      <td>0</td>\n",
       "      <td>Brown College-Brooklyn Center</td>\n",
       "      <td>NaN</td>\n",
       "      <td>Brooklyn Center</td>\n",
       "      <td>MN</td>\n",
       "      <td>55430</td>\n",
       "      <td>...</td>\n",
       "      <td>-2</td>\n",
       "      <td>-2</td>\n",
       "      <td>-2</td>\n",
       "      <td>-2</td>\n",
       "      <td>-2</td>\n",
       "      <td>-2</td>\n",
       "      <td>-2</td>\n",
       "      <td>-2</td>\n",
       "      <td>-2</td>\n",
       "      <td>-2</td>\n",
       "    </tr>\n",
       "    <tr>\n",
       "      <th>1</th>\n",
       "      <td>-475282</td>\n",
       "      <td>2012</td>\n",
       "      <td>475282</td>\n",
       "      <td>475282</td>\n",
       "      <td>0</td>\n",
       "      <td>Marian Health Careers Center-Van Nuys Campus</td>\n",
       "      <td>NaN</td>\n",
       "      <td>Van Nuys</td>\n",
       "      <td>CA</td>\n",
       "      <td>91411</td>\n",
       "      <td>...</td>\n",
       "      <td>-2</td>\n",
       "      <td>-2</td>\n",
       "      <td>-2</td>\n",
       "      <td>-2</td>\n",
       "      <td>-2</td>\n",
       "      <td>-2</td>\n",
       "      <td>-2</td>\n",
       "      <td>-2</td>\n",
       "      <td>-2</td>\n",
       "      <td>-2</td>\n",
       "    </tr>\n",
       "    <tr>\n",
       "      <th>2</th>\n",
       "      <td>-475273</td>\n",
       "      <td>2012</td>\n",
       "      <td>475273</td>\n",
       "      <td>475273</td>\n",
       "      <td>0</td>\n",
       "      <td>Springfield College-School of Human Services</td>\n",
       "      <td>NaN</td>\n",
       "      <td>Springfield</td>\n",
       "      <td>MA</td>\n",
       "      <td>01109</td>\n",
       "      <td>...</td>\n",
       "      <td>-2</td>\n",
       "      <td>-2</td>\n",
       "      <td>-2</td>\n",
       "      <td>-2</td>\n",
       "      <td>-2</td>\n",
       "      <td>-2</td>\n",
       "      <td>-2</td>\n",
       "      <td>-2</td>\n",
       "      <td>-2</td>\n",
       "      <td>-2</td>\n",
       "    </tr>\n",
       "    <tr>\n",
       "      <th>3</th>\n",
       "      <td>-475255</td>\n",
       "      <td>2012</td>\n",
       "      <td>475255</td>\n",
       "      <td>475255</td>\n",
       "      <td>0</td>\n",
       "      <td>American Broadcasting School-Online Program</td>\n",
       "      <td>NaN</td>\n",
       "      <td>Oklahoma City</td>\n",
       "      <td>OK</td>\n",
       "      <td>73115</td>\n",
       "      <td>...</td>\n",
       "      <td>-2</td>\n",
       "      <td>-2</td>\n",
       "      <td>-2</td>\n",
       "      <td>-2</td>\n",
       "      <td>-2</td>\n",
       "      <td>-2</td>\n",
       "      <td>-2</td>\n",
       "      <td>-2</td>\n",
       "      <td>-2</td>\n",
       "      <td>-2</td>\n",
       "    </tr>\n",
       "    <tr>\n",
       "      <th>4</th>\n",
       "      <td>-475246</td>\n",
       "      <td>2012</td>\n",
       "      <td>475246</td>\n",
       "      <td>475246</td>\n",
       "      <td>0</td>\n",
       "      <td>Kaplan College-Chesapeake</td>\n",
       "      <td>NaN</td>\n",
       "      <td>Chesapeake</td>\n",
       "      <td>VA</td>\n",
       "      <td>23320</td>\n",
       "      <td>...</td>\n",
       "      <td>-2</td>\n",
       "      <td>-2</td>\n",
       "      <td>-2</td>\n",
       "      <td>-2</td>\n",
       "      <td>-2</td>\n",
       "      <td>-2</td>\n",
       "      <td>-2</td>\n",
       "      <td>-2</td>\n",
       "      <td>-2</td>\n",
       "      <td>-2</td>\n",
       "    </tr>\n",
       "  </tbody>\n",
       "</table>\n",
       "<p>5 rows × 974 columns</p>\n",
       "</div>"
      ],
      "text/plain": [
       "   groupid  academicyear  unitid_linchpin  unitid  isgrouped  \\\n",
       "0  -475291          2012           475291  475291          0   \n",
       "1  -475282          2012           475282  475282          0   \n",
       "2  -475273          2012           475273  475273          0   \n",
       "3  -475255          2012           475255  475255          0   \n",
       "4  -475246          2012           475246  475246          0   \n",
       "\n",
       "                                       instname TCSName             city  \\\n",
       "0                 Brown College-Brooklyn Center     NaN  Brooklyn Center   \n",
       "1  Marian Health Careers Center-Van Nuys Campus     NaN         Van Nuys   \n",
       "2  Springfield College-School of Human Services     NaN      Springfield   \n",
       "3   American Broadcasting School-Online Program     NaN    Oklahoma City   \n",
       "4                     Kaplan College-Chesapeake     NaN       Chesapeake   \n",
       "\n",
       "  state    zip      ...       Iptall1  Iptall2  Iptall3  Iptall4  Iptall5  \\\n",
       "0    MN  55430      ...            -2       -2       -2       -2       -2   \n",
       "1    CA  91411      ...            -2       -2       -2       -2       -2   \n",
       "2    MA  01109      ...            -2       -2       -2       -2       -2   \n",
       "3    OK  73115      ...            -2       -2       -2       -2       -2   \n",
       "4    VA  23320      ...            -2       -2       -2       -2       -2   \n",
       "\n",
       "   Iptall6  Iptall7  Iptall8  Ifaculty_instr_headcount  Isalarytotal  \n",
       "0       -2       -2       -2                        -2            -2  \n",
       "1       -2       -2       -2                        -2            -2  \n",
       "2       -2       -2       -2                        -2            -2  \n",
       "3       -2       -2       -2                        -2            -2  \n",
       "4       -2       -2       -2                        -2            -2  \n",
       "\n",
       "[5 rows x 974 columns]"
      ]
     },
     "execution_count": 3,
     "metadata": {},
     "output_type": "execute_result"
    }
   ],
   "source": [
    "dt_0012 = pd.read_csv('delta_public_00_12.csv', low_memory=False)\n",
    "dt_0012.shape"
   ]
  },
  {
   "cell_type": "code",
   "execution_count": null,
   "metadata": {
    "collapsed": true
   },
   "outputs": [],
   "source": [
    "dt_0012.head()"
   ]
  },
  {
   "cell_type": "code",
   "execution_count": 4,
   "metadata": {
    "collapsed": false
   },
   "outputs": [
    {
     "name": "stdout",
     "output_type": "stream",
     "text": [
      "<class 'pandas.core.frame.DataFrame'>\n",
      "Int64Index: 87560 entries, 0 to 87559\n",
      "Columns: 974 entries, groupid to Isalarytotal\n",
      "dtypes: float64(550), int64(419), object(5)\n",
      "memory usage: 651.3+ MB\n"
     ]
    }
   ],
   "source": [
    "dt_0012.info()"
   ]
  },
  {
   "cell_type": "markdown",
   "metadata": {},
   "source": [
    "### Find columns have all null values"
   ]
  },
  {
   "cell_type": "code",
   "execution_count": 70,
   "metadata": {
    "collapsed": false
   },
   "outputs": [
    {
     "name": "stdout",
     "output_type": "stream",
     "text": [
      "['tuition01', 'tuition02', 'grants01u', 'grants01r']\n"
     ]
    }
   ],
   "source": [
    "cols = dt_0012.columns\n",
    "dt_0012_null_cols = []\n",
    "for col in cols:\n",
    "    if dt_0012[col].isnull().values.all() == True:\n",
    "        dt_0012_null_cols.append(col)\n",
    "        \n",
    "print dt_0012_null_cols"
   ]
  },
  {
   "cell_type": "code",
   "execution_count": 64,
   "metadata": {
    "collapsed": false
   },
   "outputs": [
    {
     "name": "stdout",
     "output_type": "stream",
     "text": [
      "['fte12mn', 'other04', 'any_aid_num', 'any_aid_pct', 'fed_grant_num', 'fed_grant_pct', 'fed_grant_avg_amount', 'state_grant_num', 'state_grant_pct', 'state_grant_avg_amount', 'inst_grant_num', 'inst_grant_pct', 'inst_grant_avg_amount', 'loan_num', 'loan_pct', 'loan_avg_amount', 'tuition01_tf', 'fee01_tf', 'tuition02_tf', 'fee02_tf', 'tuition03_tf', 'fee03_tf', 'tuition05_tf', 'fee05_tf', 'tuition06_tf', 'fee06_tf', 'tuition07_tf', 'fee07_tf', 'otheroper01', 'otheroper02', 'totaloper03', 'totaloper04', 'totaloper05', 'interest01', 'othernon01', 'othernon02', 'other01', 'other01_fasb', 'other02', 'totalnon01', 'totalnon02', 'total06', 'eandg04', 'eandg05', 'eandg06', 'eandg07', 'grad_rate_150_n', 'grad_rate_150_p', 'grad_rate_adj_cohort_n', 'grad_rate_150_n4yr', 'grad_rate_150_p4yr', 'grad_rate_adj_cohort_n4yr', 'grad_rate_150_n2yr', 'grad_rate_150_p2yr', 'grad_rate_adj_cohort_n2yr', 'ugentering', 'grscohort', 'grscohortpct', 'ftretention_rate', 'ptretention_rate', 'fall_cohort_num', 'fall_cohort_pct', 'fall_cohort_num_indistrict', 'fall_cohort_pct_indistrict', 'fall_cohort_num_instate', 'fall_cohort_pct_instate', 'fall_cohort_num_outofstate', 'fall_cohort_pct_outofstate', 'fall_cohort_num_resunknown', 'fall_cohort_pct_resunknown', 'fall_total_undergrad', 'year_cohort_num', 'year_cohort_pct', 'year_total_undergrad', 'total_enrollment_multi_tot', 'applcn', 'applcnm', 'applcnw', 'admssn', 'admssnm', 'admssnw', 'enrlt', 'enrlm', 'enrlw', 'applicantcount', 'admitcount', 'enrollftcount', 'enrollptcount', 'actnum', 'actpct', 'actcm25', 'actcm75', 'acten25', 'acten75', 'actmt25', 'actmt75', 'satnum', 'satpct', 'satmt25', 'satmt75', 'satvr25', 'satvr75']\n"
     ]
    }
   ],
   "source": [
    "dt_8799_null_cols = []\n",
    "for col in cols:\n",
    "    if dt_8799[col].isnull().values.all() == True:\n",
    "        dt_8799_null_cols.append(col)\n",
    "        \n",
    "print dt_8799_null_cols"
   ]
  },
  {
   "cell_type": "markdown",
   "metadata": {},
   "source": [
    "### Remove columns which have all null values in either dataset"
   ]
  },
  {
   "cell_type": "code",
   "execution_count": 77,
   "metadata": {
    "collapsed": false
   },
   "outputs": [
    {
     "name": "stdout",
     "output_type": "stream",
     "text": [
      "868\n"
     ]
    }
   ],
   "source": [
    "new_cols = [ col for col in cols if col not in (dt_0012_null_cols+dt_8799_null_cols)]\n",
    "print len(new_cols)"
   ]
  },
  {
   "cell_type": "code",
   "execution_count": 107,
   "metadata": {
    "collapsed": false
   },
   "outputs": [
    {
     "data": {
      "text/plain": [
       "(215613, 868)"
      ]
     },
     "execution_count": 107,
     "metadata": {},
     "output_type": "execute_result"
    }
   ],
   "source": [
    "# combine data\n",
    "data = pd.concat([dt_0012[new_cols], dt_8799[new_cols]], axis=0)\n",
    "data.shape"
   ]
  },
  {
   "cell_type": "code",
   "execution_count": null,
   "metadata": {
    "collapsed": false
   },
   "outputs": [],
   "source": [
    "from matplotlib import pyplot as plt\n",
    "import seaborn as sns\n",
    "%matplotlib inline\n",
    "\n",
    "sns.factorplot(\"totalcompletions_100fte\", col=\"matched_n_87_12_26\",data= data, hue='academicyear', kind=\"count\")"
   ]
  },
  {
   "cell_type": "code",
   "execution_count": null,
   "metadata": {
    "collapsed": true
   },
   "outputs": [],
   "source": [
    "data['totalcompletions_100fte'].groupby(data['academicyear']).mean()"
   ]
  }
 ],
 "metadata": {
  "kernelspec": {
   "display_name": "Python 2",
   "language": "python",
   "name": "python2"
  },
  "language_info": {
   "codemirror_mode": {
    "name": "ipython",
    "version": 2
   },
   "file_extension": ".py",
   "mimetype": "text/x-python",
   "name": "python",
   "nbconvert_exporter": "python",
   "pygments_lexer": "ipython2",
   "version": "2.7.11"
  }
 },
 "nbformat": 4,
 "nbformat_minor": 0
}
