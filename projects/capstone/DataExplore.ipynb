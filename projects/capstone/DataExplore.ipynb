{
 "cells": [
  {
   "cell_type": "markdown",
   "metadata": {},
   "source": [
    "### Data source [NCES](http://nces.ed.gov/ipeds/deltacostproject/)"
   ]
  },
  {
   "cell_type": "code",
   "execution_count": 41,
   "metadata": {
    "collapsed": true
   },
   "outputs": [],
   "source": [
    "import numpy as np\n",
    "import pandas as pd\n",
    "from pandas import Series, DataFrame\n",
    "from IPython.display import display"
   ]
  },
  {
   "cell_type": "code",
   "execution_count": 3,
   "metadata": {
    "collapsed": false
   },
   "outputs": [
    {
     "name": "stderr",
     "output_type": "stream",
     "text": [
      "C:\\Users\\jli\\AppData\\Local\\Continuum\\Anaconda2\\lib\\site-packages\\IPython\\core\\interactiveshell.py:2717: DtypeWarning: Columns (6) have mixed types. Specify dtype option on import or set low_memory=False.\n",
      "  interactivity=interactivity, compiler=compiler, result=result)\n"
     ]
    },
    {
     "data": {
      "text/html": [
       "<div>\n",
       "<table border=\"1\" class=\"dataframe\">\n",
       "  <thead>\n",
       "    <tr style=\"text-align: right;\">\n",
       "      <th></th>\n",
       "      <th>groupid</th>\n",
       "      <th>academicyear</th>\n",
       "      <th>unitid_linchpin</th>\n",
       "      <th>unitid</th>\n",
       "      <th>isgrouped</th>\n",
       "      <th>instname</th>\n",
       "      <th>TCSName</th>\n",
       "      <th>city</th>\n",
       "      <th>state</th>\n",
       "      <th>zip</th>\n",
       "      <th>...</th>\n",
       "      <th>Iptall1</th>\n",
       "      <th>Iptall2</th>\n",
       "      <th>Iptall3</th>\n",
       "      <th>Iptall4</th>\n",
       "      <th>Iptall5</th>\n",
       "      <th>Iptall6</th>\n",
       "      <th>Iptall7</th>\n",
       "      <th>Iptall8</th>\n",
       "      <th>Ifaculty_instr_headcount</th>\n",
       "      <th>Isalarytotal</th>\n",
       "    </tr>\n",
       "  </thead>\n",
       "  <tbody>\n",
       "    <tr>\n",
       "      <th>0</th>\n",
       "      <td>-475291</td>\n",
       "      <td>2012</td>\n",
       "      <td>475291</td>\n",
       "      <td>475291</td>\n",
       "      <td>0</td>\n",
       "      <td>Brown College-Brooklyn Center</td>\n",
       "      <td>NaN</td>\n",
       "      <td>Brooklyn Center</td>\n",
       "      <td>MN</td>\n",
       "      <td>55430</td>\n",
       "      <td>...</td>\n",
       "      <td>-2</td>\n",
       "      <td>-2</td>\n",
       "      <td>-2</td>\n",
       "      <td>-2</td>\n",
       "      <td>-2</td>\n",
       "      <td>-2</td>\n",
       "      <td>-2</td>\n",
       "      <td>-2</td>\n",
       "      <td>-2</td>\n",
       "      <td>-2</td>\n",
       "    </tr>\n",
       "    <tr>\n",
       "      <th>1</th>\n",
       "      <td>-475282</td>\n",
       "      <td>2012</td>\n",
       "      <td>475282</td>\n",
       "      <td>475282</td>\n",
       "      <td>0</td>\n",
       "      <td>Marian Health Careers Center-Van Nuys Campus</td>\n",
       "      <td>NaN</td>\n",
       "      <td>Van Nuys</td>\n",
       "      <td>CA</td>\n",
       "      <td>91411</td>\n",
       "      <td>...</td>\n",
       "      <td>-2</td>\n",
       "      <td>-2</td>\n",
       "      <td>-2</td>\n",
       "      <td>-2</td>\n",
       "      <td>-2</td>\n",
       "      <td>-2</td>\n",
       "      <td>-2</td>\n",
       "      <td>-2</td>\n",
       "      <td>-2</td>\n",
       "      <td>-2</td>\n",
       "    </tr>\n",
       "    <tr>\n",
       "      <th>2</th>\n",
       "      <td>-475273</td>\n",
       "      <td>2012</td>\n",
       "      <td>475273</td>\n",
       "      <td>475273</td>\n",
       "      <td>0</td>\n",
       "      <td>Springfield College-School of Human Services</td>\n",
       "      <td>NaN</td>\n",
       "      <td>Springfield</td>\n",
       "      <td>MA</td>\n",
       "      <td>01109</td>\n",
       "      <td>...</td>\n",
       "      <td>-2</td>\n",
       "      <td>-2</td>\n",
       "      <td>-2</td>\n",
       "      <td>-2</td>\n",
       "      <td>-2</td>\n",
       "      <td>-2</td>\n",
       "      <td>-2</td>\n",
       "      <td>-2</td>\n",
       "      <td>-2</td>\n",
       "      <td>-2</td>\n",
       "    </tr>\n",
       "    <tr>\n",
       "      <th>3</th>\n",
       "      <td>-475255</td>\n",
       "      <td>2012</td>\n",
       "      <td>475255</td>\n",
       "      <td>475255</td>\n",
       "      <td>0</td>\n",
       "      <td>American Broadcasting School-Online Program</td>\n",
       "      <td>NaN</td>\n",
       "      <td>Oklahoma City</td>\n",
       "      <td>OK</td>\n",
       "      <td>73115</td>\n",
       "      <td>...</td>\n",
       "      <td>-2</td>\n",
       "      <td>-2</td>\n",
       "      <td>-2</td>\n",
       "      <td>-2</td>\n",
       "      <td>-2</td>\n",
       "      <td>-2</td>\n",
       "      <td>-2</td>\n",
       "      <td>-2</td>\n",
       "      <td>-2</td>\n",
       "      <td>-2</td>\n",
       "    </tr>\n",
       "    <tr>\n",
       "      <th>4</th>\n",
       "      <td>-475246</td>\n",
       "      <td>2012</td>\n",
       "      <td>475246</td>\n",
       "      <td>475246</td>\n",
       "      <td>0</td>\n",
       "      <td>Kaplan College-Chesapeake</td>\n",
       "      <td>NaN</td>\n",
       "      <td>Chesapeake</td>\n",
       "      <td>VA</td>\n",
       "      <td>23320</td>\n",
       "      <td>...</td>\n",
       "      <td>-2</td>\n",
       "      <td>-2</td>\n",
       "      <td>-2</td>\n",
       "      <td>-2</td>\n",
       "      <td>-2</td>\n",
       "      <td>-2</td>\n",
       "      <td>-2</td>\n",
       "      <td>-2</td>\n",
       "      <td>-2</td>\n",
       "      <td>-2</td>\n",
       "    </tr>\n",
       "  </tbody>\n",
       "</table>\n",
       "<p>5 rows × 974 columns</p>\n",
       "</div>"
      ],
      "text/plain": [
       "   groupid  academicyear  unitid_linchpin  unitid  isgrouped  \\\n",
       "0  -475291          2012           475291  475291          0   \n",
       "1  -475282          2012           475282  475282          0   \n",
       "2  -475273          2012           475273  475273          0   \n",
       "3  -475255          2012           475255  475255          0   \n",
       "4  -475246          2012           475246  475246          0   \n",
       "\n",
       "                                       instname TCSName             city  \\\n",
       "0                 Brown College-Brooklyn Center     NaN  Brooklyn Center   \n",
       "1  Marian Health Careers Center-Van Nuys Campus     NaN         Van Nuys   \n",
       "2  Springfield College-School of Human Services     NaN      Springfield   \n",
       "3   American Broadcasting School-Online Program     NaN    Oklahoma City   \n",
       "4                     Kaplan College-Chesapeake     NaN       Chesapeake   \n",
       "\n",
       "  state    zip      ...       Iptall1  Iptall2  Iptall3  Iptall4  Iptall5  \\\n",
       "0    MN  55430      ...            -2       -2       -2       -2       -2   \n",
       "1    CA  91411      ...            -2       -2       -2       -2       -2   \n",
       "2    MA  01109      ...            -2       -2       -2       -2       -2   \n",
       "3    OK  73115      ...            -2       -2       -2       -2       -2   \n",
       "4    VA  23320      ...            -2       -2       -2       -2       -2   \n",
       "\n",
       "   Iptall6  Iptall7  Iptall8  Ifaculty_instr_headcount  Isalarytotal  \n",
       "0       -2       -2       -2                        -2            -2  \n",
       "1       -2       -2       -2                        -2            -2  \n",
       "2       -2       -2       -2                        -2            -2  \n",
       "3       -2       -2       -2                        -2            -2  \n",
       "4       -2       -2       -2                        -2            -2  \n",
       "\n",
       "[5 rows x 974 columns]"
      ]
     },
     "execution_count": 3,
     "metadata": {},
     "output_type": "execute_result"
    }
   ],
   "source": [
    "dt_0012 = pd.read_csv('delta_public_00_12.csv', low_memory=False)\n",
    "dt_0012.head()"
   ]
  },
  {
   "cell_type": "code",
   "execution_count": 4,
   "metadata": {
    "collapsed": false
   },
   "outputs": [
    {
     "name": "stdout",
     "output_type": "stream",
     "text": [
      "<class 'pandas.core.frame.DataFrame'>\n",
      "RangeIndex: 87560 entries, 0 to 87559\n",
      "Columns: 974 entries, groupid to Isalarytotal\n",
      "dtypes: float64(550), int64(419), object(5)\n",
      "memory usage: 650.7+ MB\n"
     ]
    }
   ],
   "source": [
    "dt_0012.info()"
   ]
  },
  {
   "cell_type": "code",
   "execution_count": 5,
   "metadata": {
    "collapsed": false
   },
   "outputs": [
    {
     "data": {
      "text/plain": [
       "(87560, 974)"
      ]
     },
     "execution_count": 5,
     "metadata": {},
     "output_type": "execute_result"
    }
   ],
   "source": [
    "dt_0012.shape"
   ]
  },
  {
   "cell_type": "code",
   "execution_count": 50,
   "metadata": {
    "collapsed": false
   },
   "outputs": [
    {
     "data": {
      "text/plain": [
       "(128053, 974)"
      ]
     },
     "execution_count": 50,
     "metadata": {},
     "output_type": "execute_result"
    }
   ],
   "source": [
    "dt_8799 = pd.read_csv('delta_public_87_99.csv')\n",
    "dt_8799.shape"
   ]
  },
  {
   "cell_type": "code",
   "execution_count": 43,
   "metadata": {
    "collapsed": false
   },
   "outputs": [
    {
     "data": {
      "text/html": [
       "<div>\n",
       "<table border=\"1\" class=\"dataframe\">\n",
       "  <thead>\n",
       "    <tr style=\"text-align: right;\">\n",
       "      <th></th>\n",
       "      <th>groupid</th>\n",
       "      <th>academicyear</th>\n",
       "      <th>unitid_linchpin</th>\n",
       "      <th>unitid</th>\n",
       "      <th>isgrouped</th>\n",
       "      <th>instname</th>\n",
       "      <th>TCSName</th>\n",
       "      <th>city</th>\n",
       "      <th>state</th>\n",
       "      <th>zip</th>\n",
       "      <th>...</th>\n",
       "      <th>Iptall1</th>\n",
       "      <th>Iptall2</th>\n",
       "      <th>Iptall3</th>\n",
       "      <th>Iptall4</th>\n",
       "      <th>Iptall5</th>\n",
       "      <th>Iptall6</th>\n",
       "      <th>Iptall7</th>\n",
       "      <th>Iptall8</th>\n",
       "      <th>Ifaculty_instr_headcount</th>\n",
       "      <th>Isalarytotal</th>\n",
       "    </tr>\n",
       "  </thead>\n",
       "  <tbody>\n",
       "    <tr>\n",
       "      <th>0</th>\n",
       "      <td>-434973</td>\n",
       "      <td>1999</td>\n",
       "      <td>434973</td>\n",
       "      <td>434973</td>\n",
       "      <td>0</td>\n",
       "      <td>University of Phoenix-Maryland Campus</td>\n",
       "      <td>NaN</td>\n",
       "      <td>Columbia</td>\n",
       "      <td>MD</td>\n",
       "      <td>21045-542</td>\n",
       "      <td>...</td>\n",
       "      <td>-2</td>\n",
       "      <td>-2</td>\n",
       "      <td>-2</td>\n",
       "      <td>-2</td>\n",
       "      <td>-2</td>\n",
       "      <td>-2</td>\n",
       "      <td>-2</td>\n",
       "      <td>-2</td>\n",
       "      <td>-1</td>\n",
       "      <td>-1</td>\n",
       "    </tr>\n",
       "    <tr>\n",
       "      <th>1</th>\n",
       "      <td>-434937</td>\n",
       "      <td>1999</td>\n",
       "      <td>434937</td>\n",
       "      <td>434937</td>\n",
       "      <td>0</td>\n",
       "      <td>Yeshiva College of the Nations Capital</td>\n",
       "      <td>NaN</td>\n",
       "      <td>Silver  Spring</td>\n",
       "      <td>MD</td>\n",
       "      <td>20902</td>\n",
       "      <td>...</td>\n",
       "      <td>-2</td>\n",
       "      <td>-2</td>\n",
       "      <td>-2</td>\n",
       "      <td>-2</td>\n",
       "      <td>-2</td>\n",
       "      <td>-2</td>\n",
       "      <td>-2</td>\n",
       "      <td>-2</td>\n",
       "      <td>-1</td>\n",
       "      <td>-1</td>\n",
       "    </tr>\n",
       "    <tr>\n",
       "      <th>2</th>\n",
       "      <td>-434928</td>\n",
       "      <td>1999</td>\n",
       "      <td>434928</td>\n",
       "      <td>434928</td>\n",
       "      <td>0</td>\n",
       "      <td>University of Northern Virginia</td>\n",
       "      <td>NaN</td>\n",
       "      <td>Manassas</td>\n",
       "      <td>VA</td>\n",
       "      <td>20109</td>\n",
       "      <td>...</td>\n",
       "      <td>-2</td>\n",
       "      <td>-2</td>\n",
       "      <td>-2</td>\n",
       "      <td>-2</td>\n",
       "      <td>-2</td>\n",
       "      <td>-2</td>\n",
       "      <td>-2</td>\n",
       "      <td>-2</td>\n",
       "      <td>-1</td>\n",
       "      <td>-1</td>\n",
       "    </tr>\n",
       "    <tr>\n",
       "      <th>3</th>\n",
       "      <td>-434919</td>\n",
       "      <td>1999</td>\n",
       "      <td>434919</td>\n",
       "      <td>434919</td>\n",
       "      <td>0</td>\n",
       "      <td>PONCE JUNIOR COLLEGE</td>\n",
       "      <td>NaN</td>\n",
       "      <td>PONCE</td>\n",
       "      <td>PR</td>\n",
       "      <td>00731</td>\n",
       "      <td>...</td>\n",
       "      <td>-2</td>\n",
       "      <td>-2</td>\n",
       "      <td>-2</td>\n",
       "      <td>-2</td>\n",
       "      <td>-2</td>\n",
       "      <td>-2</td>\n",
       "      <td>-2</td>\n",
       "      <td>-2</td>\n",
       "      <td>-1</td>\n",
       "      <td>-1</td>\n",
       "    </tr>\n",
       "    <tr>\n",
       "      <th>4</th>\n",
       "      <td>-434876</td>\n",
       "      <td>1999</td>\n",
       "      <td>434876</td>\n",
       "      <td>434876</td>\n",
       "      <td>0</td>\n",
       "      <td>CENTER FOR EMPLOYMENT TRAINING-TRACY CAMPUS</td>\n",
       "      <td>NaN</td>\n",
       "      <td>TRACY</td>\n",
       "      <td>CA</td>\n",
       "      <td>95376</td>\n",
       "      <td>...</td>\n",
       "      <td>-2</td>\n",
       "      <td>-2</td>\n",
       "      <td>-2</td>\n",
       "      <td>-2</td>\n",
       "      <td>-2</td>\n",
       "      <td>-2</td>\n",
       "      <td>-2</td>\n",
       "      <td>-2</td>\n",
       "      <td>-1</td>\n",
       "      <td>-1</td>\n",
       "    </tr>\n",
       "  </tbody>\n",
       "</table>\n",
       "<p>5 rows × 974 columns</p>\n",
       "</div>"
      ],
      "text/plain": [
       "   groupid  academicyear  unitid_linchpin  unitid  isgrouped  \\\n",
       "0  -434973          1999           434973  434973          0   \n",
       "1  -434937          1999           434937  434937          0   \n",
       "2  -434928          1999           434928  434928          0   \n",
       "3  -434919          1999           434919  434919          0   \n",
       "4  -434876          1999           434876  434876          0   \n",
       "\n",
       "                                      instname TCSName            city state  \\\n",
       "0        University of Phoenix-Maryland Campus     NaN        Columbia    MD   \n",
       "1       Yeshiva College of the Nations Capital     NaN  Silver  Spring    MD   \n",
       "2              University of Northern Virginia     NaN        Manassas    VA   \n",
       "3                         PONCE JUNIOR COLLEGE     NaN           PONCE    PR   \n",
       "4  CENTER FOR EMPLOYMENT TRAINING-TRACY CAMPUS     NaN           TRACY    CA   \n",
       "\n",
       "         zip      ...       Iptall1  Iptall2  Iptall3  Iptall4  Iptall5  \\\n",
       "0  21045-542      ...            -2       -2       -2       -2       -2   \n",
       "1      20902      ...            -2       -2       -2       -2       -2   \n",
       "2      20109      ...            -2       -2       -2       -2       -2   \n",
       "3      00731      ...            -2       -2       -2       -2       -2   \n",
       "4      95376      ...            -2       -2       -2       -2       -2   \n",
       "\n",
       "   Iptall6  Iptall7  Iptall8  Ifaculty_instr_headcount  Isalarytotal  \n",
       "0       -2       -2       -2                        -1            -1  \n",
       "1       -2       -2       -2                        -1            -1  \n",
       "2       -2       -2       -2                        -1            -1  \n",
       "3       -2       -2       -2                        -1            -1  \n",
       "4       -2       -2       -2                        -1            -1  \n",
       "\n",
       "[5 rows x 974 columns]"
      ]
     },
     "metadata": {},
     "output_type": "display_data"
    }
   ],
   "source": [
    "display(dt_8799.head())"
   ]
  },
  {
   "cell_type": "code",
   "execution_count": 51,
   "metadata": {
    "collapsed": false
   },
   "outputs": [
    {
     "data": {
      "text/plain": [
       "57280711L"
      ]
     },
     "execution_count": 51,
     "metadata": {},
     "output_type": "execute_result"
    }
   ],
   "source": [
    "dt_8799.isnull().sum().sum()"
   ]
  },
  {
   "cell_type": "code",
   "execution_count": 53,
   "metadata": {
    "collapsed": false
   },
   "outputs": [
    {
     "ename": "AttributeError",
     "evalue": "'DataFrame' object has no attribute 'isnan'",
     "output_type": "error",
     "traceback": [
      "\u001b[0;31m---------------------------------------------------------------------------\u001b[0m",
      "\u001b[0;31mAttributeError\u001b[0m                            Traceback (most recent call last)",
      "\u001b[0;32m<ipython-input-53-9824df6a5e0a>\u001b[0m in \u001b[0;36m<module>\u001b[0;34m()\u001b[0m\n\u001b[0;32m----> 1\u001b[0;31m \u001b[0mdt_8799\u001b[0m\u001b[1;33m.\u001b[0m\u001b[0misnan\u001b[0m\u001b[1;33m(\u001b[0m\u001b[1;33m)\u001b[0m\u001b[1;33m\u001b[0m\u001b[0m\n\u001b[0m",
      "\u001b[0;32mC:\\Users\\jli\\AppData\\Local\\Continuum\\Anaconda2\\lib\\site-packages\\pandas\\core\\generic.pyc\u001b[0m in \u001b[0;36m__getattr__\u001b[0;34m(self, name)\u001b[0m\n\u001b[1;32m   2667\u001b[0m             \u001b[1;32mif\u001b[0m \u001b[0mname\u001b[0m \u001b[1;32min\u001b[0m \u001b[0mself\u001b[0m\u001b[1;33m.\u001b[0m\u001b[0m_info_axis\u001b[0m\u001b[1;33m:\u001b[0m\u001b[1;33m\u001b[0m\u001b[0m\n\u001b[1;32m   2668\u001b[0m                 \u001b[1;32mreturn\u001b[0m \u001b[0mself\u001b[0m\u001b[1;33m[\u001b[0m\u001b[0mname\u001b[0m\u001b[1;33m]\u001b[0m\u001b[1;33m\u001b[0m\u001b[0m\n\u001b[0;32m-> 2669\u001b[0;31m             \u001b[1;32mreturn\u001b[0m \u001b[0mobject\u001b[0m\u001b[1;33m.\u001b[0m\u001b[0m__getattribute__\u001b[0m\u001b[1;33m(\u001b[0m\u001b[0mself\u001b[0m\u001b[1;33m,\u001b[0m \u001b[0mname\u001b[0m\u001b[1;33m)\u001b[0m\u001b[1;33m\u001b[0m\u001b[0m\n\u001b[0m\u001b[1;32m   2670\u001b[0m \u001b[1;33m\u001b[0m\u001b[0m\n\u001b[1;32m   2671\u001b[0m     \u001b[1;32mdef\u001b[0m \u001b[0m__setattr__\u001b[0m\u001b[1;33m(\u001b[0m\u001b[0mself\u001b[0m\u001b[1;33m,\u001b[0m \u001b[0mname\u001b[0m\u001b[1;33m,\u001b[0m \u001b[0mvalue\u001b[0m\u001b[1;33m)\u001b[0m\u001b[1;33m:\u001b[0m\u001b[1;33m\u001b[0m\u001b[0m\n",
      "\u001b[0;31mAttributeError\u001b[0m: 'DataFrame' object has no attribute 'isnan'"
     ]
    }
   ],
   "source": [
    "np.isnan()"
   ]
  },
  {
   "cell_type": "code",
   "execution_count": 48,
   "metadata": {
    "collapsed": false
   },
   "outputs": [
    {
     "data": {
      "text/html": [
       "<div>\n",
       "<table border=\"1\" class=\"dataframe\">\n",
       "  <thead>\n",
       "    <tr style=\"text-align: right;\">\n",
       "      <th></th>\n",
       "      <th>groupid</th>\n",
       "      <th>academicyear</th>\n",
       "      <th>unitid_linchpin</th>\n",
       "      <th>unitid</th>\n",
       "      <th>isgrouped</th>\n",
       "      <th>instname</th>\n",
       "      <th>TCSName</th>\n",
       "      <th>city</th>\n",
       "      <th>state</th>\n",
       "      <th>zip</th>\n",
       "      <th>...</th>\n",
       "      <th>Iptall1</th>\n",
       "      <th>Iptall2</th>\n",
       "      <th>Iptall3</th>\n",
       "      <th>Iptall4</th>\n",
       "      <th>Iptall5</th>\n",
       "      <th>Iptall6</th>\n",
       "      <th>Iptall7</th>\n",
       "      <th>Iptall8</th>\n",
       "      <th>Ifaculty_instr_headcount</th>\n",
       "      <th>Isalarytotal</th>\n",
       "    </tr>\n",
       "  </thead>\n",
       "  <tbody>\n",
       "  </tbody>\n",
       "</table>\n",
       "<p>0 rows × 974 columns</p>\n",
       "</div>"
      ],
      "text/plain": [
       "Empty DataFrame\n",
       "Columns: [groupid, academicyear, unitid_linchpin, unitid, isgrouped, instname, TCSName, city, state, zip, ansi_code, sector, sector_revised, iclevel, control, oberegion, census_division, census_region, region_compact, carnegie2000, carnegiegrp_2000, carnegie_sector_2000, carnegie2005, carnegiegrp_2005, carnegie_sector_2005, carnegie2010, carnegiegrp_2010, carnegie_sector_2010, flagship, landgrnt, hbcu, hsi, medical, hospital, cpi_index, cpi_scalar_2012, hepi_index, hepi_scalar_2012, heca_index, heca_scalar_2012, has_instruction, has_fte, has_completions, has_all, matched_n_87_12_26, matched_n_02_12_11, matched_n_07_12_6, fte_count, fte12mn, tuition01, tuition02, tuition03, nettuition01, net_student_tuition, federal03, state03, local03, state_local_app, federal07, federal07_net_pell, state06, local06, state_local_grant_contract, federal10, federal10_net_pell, state09, fed_state_loc_grants_con, private03, affiliate01, investment01, endowment03, priv_invest_endow, edactivity03, auxiliary03, hospital03, other03, other04, independent03, other05, auxother_rev, stable_operating_rev, total03_revenue, tot_rev_wo_auxother_sum, tot_rev_w_auxother_sum, unrestricted_revenue, restricted_revenue, tuition_reliance_a1, tuition_reliance_b1, tuition_reliance_c1, tuition_reliance_a2, tuition_reliance_b2, tuition_reliance_c2, govt_reliance_a, govt_reliance_b, govt_reliance_c, appliedaid01, appliedaid02, grant01, grant02, grant03, ...]\n",
       "Index: []\n",
       "\n",
       "[0 rows x 974 columns]"
      ]
     },
     "execution_count": 48,
     "metadata": {},
     "output_type": "execute_result"
    }
   ],
   "source": [
    "dt.head()"
   ]
  },
  {
   "cell_type": "code",
   "execution_count": null,
   "metadata": {
    "collapsed": true
   },
   "outputs": [],
   "source": []
  }
 ],
 "metadata": {
  "kernelspec": {
   "display_name": "Python 2",
   "language": "python",
   "name": "python2"
  },
  "language_info": {
   "codemirror_mode": {
    "name": "ipython",
    "version": 2
   },
   "file_extension": ".py",
   "mimetype": "text/x-python",
   "name": "python",
   "nbconvert_exporter": "python",
   "pygments_lexer": "ipython2",
   "version": "2.7.12"
  }
 },
 "nbformat": 4,
 "nbformat_minor": 0
}
