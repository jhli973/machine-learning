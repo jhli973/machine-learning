{
 "cells": [
  {
   "cell_type": "markdown",
   "metadata": {},
   "source": [
    "## Collections:\n",
    "- no inherient order\n",
    "- can have different data types\n",
    "\n",
    "### List: \n",
    "- A collection has order\n",
    " \n",
    "### Array: \n",
    "- most common implementation of list, in some language you can only have the same data type\n",
    "- with index, good for reading but bad for insertion and deletion (re-arrange index)\n",
    "\n",
    "### A linked list: \n",
    "- an extension of list, it has order but no index\n",
    "- good for insertion and deletion\n",
    "- store a reference to the next lelement (store the memory address of the next element)\n",
    "\n",
    "### Doubly linked list: \n",
    "- have pointers to the next element and the previous element\n",
    "- you can traverse the list in both directions\n",
    "- it has head, value, next three attributes\n",
    "\n",
    "```python\n",
    "class Element:\n",
    "    def __init__(self, value):\n",
    "        self.value = value\n",
    "        self.next = None\n",
    "        \n",
    "class LinkedList:\n",
    "    def __init__(self, head=None):\n",
    "        self.head = head\n",
    "        \n",
    "    def append(self, new_element):\n",
    "        current = self.head\n",
    "        if self.head:\n",
    "            while current.next:\n",
    "                current = current.next\n",
    "                current.next = new_element\n",
    "        else:\n",
    "            self.head = new_element\n",
    "```     \n",
    "\n",
    "### Stack:\n",
    "- Last in first out (LIFO)\n",
    "- There are push (insert) and pop (delete) methods -- Corresponding to append and pop in list\n",
    "\n",
    "### Queues:\n",
    "- First in first out (FIFO)\n",
    "- There are head, tail attributes\n",
    "- There are Peek (chech the value), Dequeue (delete) and Enqueue (add) methods\n",
    "- Special Queue:\n",
    "    - Deck (double-ended queue), python has deque which equivalent to deck\n",
    "    - Priority Queue\n",
    "\n",
    "```python\n",
    "from collections import deque\n",
    "```"
   ]
  },
  {
   "cell_type": "markdown",
   "metadata": {
    "collapsed": true
   },
   "source": [
    "## Searching and Sorting\n",
    "\n",
    "### [Binary Search](http://www.cs.armstrong.edu/liang/animation/web/BinarySearch.html):\n",
    "- Works in sorted arrays:\n",
    "- Efficiency: $O(log_2^{(n)})$"
   ]
  },
  {
   "cell_type": "code",
   "execution_count": null,
   "metadata": {
    "collapsed": true
   },
   "outputs": [],
   "source": []
  }
 ],
 "metadata": {
  "kernelspec": {
   "display_name": "Python 3",
   "language": "python",
   "name": "python3"
  },
  "language_info": {
   "codemirror_mode": {
    "name": "ipython",
    "version": 3
   },
   "file_extension": ".py",
   "mimetype": "text/x-python",
   "name": "python",
   "nbconvert_exporter": "python",
   "pygments_lexer": "ipython3",
   "version": "3.6.0"
  }
 },
 "nbformat": 4,
 "nbformat_minor": 2
}
