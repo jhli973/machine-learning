{
 "cells": [
  {
   "cell_type": "markdown",
   "metadata": {},
   "source": [
    "## Collections:\n",
    "- no inherient order\n",
    "- can have different data types\n",
    "\n",
    "### List: \n",
    "- A collection has order\n",
    " \n",
    "### Array: \n",
    "- most common implementation of list, in some language you can only have the same data type\n",
    "- with index, good for reading but bad for insertion and deletion (re-arrange index)\n",
    "\n",
    "### A linked list: \n",
    "- an extension of list, it has order but no index\n",
    "- good for insertion and deletion\n",
    "- store a reference to the next lelement (store the memory address of the next element)\n",
    "\n",
    "### Doubly linked list: \n",
    "- have pointers to the next element and the previous element\n",
    "- you can traverse the list in both directions\n",
    "- it has head, value, next three attributes\n",
    "\n",
    "```python\n",
    "class Element:\n",
    "    def __init__(self, value):\n",
    "        self.value = value\n",
    "        self.next = None\n",
    "        \n",
    "class LinkedList:\n",
    "    def __init__(self, head=None):\n",
    "        self.head = head\n",
    "        \n",
    "    def append(self, new_element):\n",
    "        current = self.head\n",
    "        if self.head:\n",
    "            while current.next:\n",
    "                current = current.next\n",
    "                current.next = new_element\n",
    "        else:\n",
    "            self.head = new_element\n",
    "```     \n",
    "\n",
    "### Stack:\n",
    "- Last in first out (LIFO)\n",
    "- There are push (insert) and pop (delete) methods -- Corresponding to append and pop in list\n",
    "\n",
    "### Queues:\n",
    "- First in first out (FIFO)\n",
    "- There are head, tail attributes\n",
    "- There are Peek (chech the value), Dequeue (delete) and Enqueue (add) methods\n",
    "- Special Queue:\n",
    "    - Deck (double-ended queue), python has deque which equivalent to deck\n",
    "    - Priority Queue\n",
    "\n",
    "```python\n",
    "from collections import deque\n",
    "```"
   ]
  },
  {
   "cell_type": "markdown",
   "metadata": {
    "collapsed": true
   },
   "source": [
    "## Searching and Sorting\n",
    "\n",
    "### [Binary Search](http://www.cs.armstrong.edu/liang/animation/web/BinarySearch.html):\n",
    "- Works in sorted arrays:\n",
    "- Efficiency: $O(log^n)$\n",
    "\n",
    "### Recursion\n",
    "\n",
    "\n",
    "### Sorting\n",
    "- in place sorting or not? in place algorithms have low space complexity\n",
    "\n",
    "**Bubble Sort/Sinking Sort:** - naive approach, in place algorithm\n",
    "    \n",
    "- Time complexity: $O(n^2)$\n",
    "    - worst case: $O(n^2)$\n",
    "    - average case: $O(n^2)$\n",
    "    - best case: $O(n)$  already sorted, or only one element need to bubble up\n",
    "- Space complexity: $O(1)$\n",
    "    \n",
    "**[Merge Sort](http://algs4.cs.princeton.edu/22mergesort/):** \n",
    "- Divide-and-Conquer \n",
    "- Two subtypes: bottom-up and top-down\n",
    "- Combining two ordered arrays to make one larger ordered array.\n",
    "\n",
    "\n",
    "- Time complexity:\n",
    "    - worst case: $O(nlog^{(n)})$\n",
    "- Space complexity: $O(n)$\n",
    "\n",
    "**Quick Sort:** In place sort, recursively Pick a random value (pivot), convention is pick the last value as pivot\n",
    "\n",
    "- Time complexity:\n",
    "    - worst case: $O(n^2)$\n",
    "    - best and average complexity: $O(nlog^{(n)})$\n",
    "- Space complexity: $O(1)$\n",
    "    \n",
    "NOTE: if you know that the list is nearly sorted, you should not use quick sort."
   ]
  },
  {
   "cell_type": "markdown",
   "metadata": {
    "collapsed": true
   },
   "source": [
    "## Maps and Hashing\n",
    "\n",
    "### Map \n",
    "also called dictionary (key, value). A map is a set-based data structure. Just like an array is a list-based data structure.\n",
    "The keys of a Map is a set\n",
    "\n",
    "A set is comparable to a list but does not have order and does not allow for repeated elements. you can think a set is a bag.\n",
    "\n",
    "### Hash Function\n",
    "\n",
    "Value --> Hash Value (Coded version of value that's often the index in an array): store and retrieve easily\n",
    "\n",
    "Example: ticket number --> use hash function convert them to hash values\n",
    "    - One common pattern in hash functions is to take the last few digits of a big number divided it by come consistent number and use the remainder from that division to find a place to store that number in a array\n",
    "    \n",
    "**Collisions:** There times when a hash function will split out the same hash value for different inputs\n",
    "    \n",
    "- Two main ways to fix the collision issue:\n",
    "   - change the value in hash function or change hash function completely so you have more than enough slots to store all of your potential values. (advantage: maintain constant time, disadvantage: require a lot more space to store your values)\n",
    "   - keep your original hash function but change the structure of your array,  instead of storing one hash value in each slot, you can store some type of lists that contains all values hashed at that spot. These lists are called buckets. (you could end up storing every value in one bucket, in the worst case, it turns into big $O(n)$) \n",
    "\n",
    "- Load factor = number of entries / Number of Buckets. as the load factor approaches 0, the more empty, or sparse, our hash table is. On the flip side, the closer our load factor is to 1 (meaning the number of values equals the number of buckets), the better it would be for us to rehash and add more buckets. Any table with a load value greater than 1 is guaranteed to have collisions. \n",
    "\n",
    "### Hash Map \n",
    "\n",
    "### String Keys\n",
    "\n",
    "- ASCII Values: S[0] * 31^(n - 1) + s[1] * 31 ^ (n - 2) + ... + s[n-1]\n",
    "- Hash Value = (ASCII Value of First Letter * 100) + ASCII Value of Second Letter \n",
    "- Python function ord() to get the ASCII value of a letter, and chr() to get the letter associated with an ASCII value. "
   ]
  },
  {
   "cell_type": "code",
   "execution_count": 8,
   "metadata": {
    "collapsed": false
   },
   "outputs": [
    {
     "name": "stdout",
     "output_type": "stream",
     "text": [
      "Atlanta\n",
      "Mountain View\n",
      "Bangalore - India\n",
      "Shanghai - China\n",
      "China Shanghai\n",
      "India Bangalore\n"
     ]
    }
   ],
   "source": [
    "locations = {'North America': {'USA': ['Mountain View']}}\n",
    "locations['Asia'] = {'India': ['Bangalore']}\n",
    "locations['North America']['USA'].append('Atlanta')\n",
    "locations['Africa'] = {'Egypt': ['Cairo']}\n",
    "locations['Asia']['China'] =['Shanghai']\n",
    "\n",
    "usa_city = locations['North America']['USA']\n",
    "for city in sorted(usa_city):\n",
    "    print(city)\n",
    "    \n",
    "asia_city = locations['Asia']\n",
    "\n",
    "## sort dictionary by value\n",
    "import operator\n",
    "#for k, v in sorted(asia_city.iteritems(), key = lambda (k, v): (v, k)): #python2.7\n",
    "for k, v in sorted(asia_city.items(), key = operator.itemgetter(1)):\n",
    "    print(v[0],\"-\", k)\n",
    "    \n",
    "## sort dictionary by key\n",
    "#for key in sorted(asia_city.iterkeys()): # #for python2.7\n",
    "for k, v in sorted(asia_city.items(), key = operator.itemgetter(0)):\n",
    "    print(k, v[0])   "
   ]
  },
  {
   "cell_type": "code",
   "execution_count": 12,
   "metadata": {
    "collapsed": false
   },
   "outputs": [
    {
     "name": "stdout",
     "output_type": "stream",
     "text": [
      "8568\n",
      "-1\n",
      "8568\n",
      "8568\n"
     ]
    }
   ],
   "source": [
    "\"\"\"Write a HashTable class that stores strings\n",
    "in a hash table, where keys are calculated\n",
    "using the first two letters of the string.\"\"\"\n",
    "\n",
    "class HashTable(object):\n",
    "    def __init__(self):\n",
    "        self.table = [None]*10000\n",
    "\n",
    "    def store(self, string):\n",
    "        # store string in a list with hash value as index\n",
    "        \"\"\"Input a string that's stored in \n",
    "        the table.\"\"\"\n",
    "        hv = self.calculate_hash_value(string)\n",
    "        if hv != -1:\n",
    "            if self.table[hv]: # is not None:\n",
    "                self.table[hv].append(string)\n",
    "            else:\n",
    "                self.table[hv] = [string]\n",
    "\n",
    "    def lookup(self, string):\n",
    "        \"\"\"Return the hash value if the\n",
    "        string is already in the table.\n",
    "        Return -1 otherwise.\"\"\"\n",
    "        hv  = self.calculate_hash_value(string)\n",
    "        if hv != -1 and self.table[hv]: #!= None:\n",
    "            if string in self.table[hv]:\n",
    "                return hv\n",
    "        return -1\n",
    "\n",
    "    def calculate_hash_value(self, string):\n",
    "        \"\"\"Helper function to calulate a\n",
    "        hash value from a string.\"\"\"\n",
    "        return ord(string[0]) * 100 + ord(string[1])\n",
    "    \n",
    "# Setup\n",
    "hash_table = HashTable()\n",
    "\n",
    "# Test calculate_hash_value\n",
    "# Should be 8568\n",
    "print(hash_table.calculate_hash_value('UDACITY'))\n",
    "\n",
    "# Test lookup edge case\n",
    "# Should be -1\n",
    "print(hash_table.lookup('UDACITY'))\n",
    "\n",
    "# Test store\n",
    "hash_table.store('UDACITY')\n",
    "# Should be 8568\n",
    "print(hash_table.lookup('UDACITY'))\n",
    "\n",
    "# Test store edge case\n",
    "hash_table.store('UDACIOUS')\n",
    "# Should be 8568\n",
    "print(hash_table.lookup('UDACIOUS'))"
   ]
  },
  {
   "cell_type": "code",
   "execution_count": 15,
   "metadata": {
    "collapsed": false
   },
   "outputs": [
    {
     "name": "stdout",
     "output_type": "stream",
     "text": [
      "[None, None, None, None, None, None, None, None, None, None]\n"
     ]
    }
   ],
   "source": [
    "x = [None] * 10\n",
    "print(x)"
   ]
  },
  {
   "cell_type": "code",
   "execution_count": 16,
   "metadata": {
    "collapsed": false
   },
   "outputs": [
    {
     "data": {
      "text/plain": [
       "[None, None, 'Hello', None, None, None, None, None, None, None]"
      ]
     },
     "execution_count": 16,
     "metadata": {},
     "output_type": "execute_result"
    }
   ],
   "source": [
    "x[2] = 'Hello'\n",
    "x"
   ]
  },
  {
   "cell_type": "markdown",
   "metadata": {
    "collapsed": false
   },
   "source": [
    "## Trees\n",
    "\n",
    "A tree is an extension of a linked list\n",
    "### Tree: \n",
    "- Must be fully comnnected\n",
    "- Must not be any cycles in the tree\n",
    "\n",
    "**Terminology:**\n",
    "- Level: root  -- level 1\n",
    "- Leaf: node does not any child, also called external nodes\n",
    "- Parent nodes: also called internal nodes\n",
    "- Path: a group of connections taken together as a path\n",
    "- Height of a node: The number of edges between it and the furthest leaf on the tree. So a leaf has a height of zero but parent of a leaf has a height of one.\n",
    "- Depth of a node: the number of edges to the root. Height and depth should move inversely and starts from 0.\n",
    "\n",
    "**Tree Traversal**\n",
    "\n",
    "- DFS (Depth First search)\n",
    "- BFS (breadth first search): level ordered traversal, from left to the right"
   ]
  },
  {
   "cell_type": "code",
   "execution_count": null,
   "metadata": {
    "collapsed": true
   },
   "outputs": [],
   "source": []
  }
 ],
 "metadata": {
  "kernelspec": {
   "display_name": "Python 3",
   "language": "python",
   "name": "python3"
  },
  "language_info": {
   "codemirror_mode": {
    "name": "ipython",
    "version": 3
   },
   "file_extension": ".py",
   "mimetype": "text/x-python",
   "name": "python",
   "nbconvert_exporter": "python",
   "pygments_lexer": "ipython3",
   "version": "3.6.0"
  }
 },
 "nbformat": 4,
 "nbformat_minor": 2
}
