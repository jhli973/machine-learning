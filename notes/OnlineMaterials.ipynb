{
 "cells": [
  {
   "cell_type": "markdown",
   "metadata": {},
   "source": [
    "## A. Data Exploration\n",
    "\n",
    "### [A Comprehensive Guide to Data Exploration](https://www.analyticsvidhya.com/blog/2016/01/guide-data-exploration/)\n",
    "\n",
    "### [Open Machine Learning Course. Topic 1. Exploratory data analysis with Pandas](https://medium.com/open-machine-learning-course/open-machine-learning-course-topic-1-exploratory-data-analysis-with-pandas-de57880f1a68)\n",
    "\n",
    "### [14 Best Pandas Features](http://dataconomy.com/14-best-python-pandas-features/)"
   ]
  },
  {
   "cell_type": "code",
   "execution_count": null,
   "metadata": {
    "collapsed": true
   },
   "outputs": [],
   "source": []
  },
  {
   "cell_type": "markdown",
   "metadata": {},
   "source": [
    "## B. Visualization\n",
    "\n",
    "### [10 Useful Python Data Visualization Libraries for Any Discipline](https://blog.modeanalytics.com/python-data-visualization-libraries/)"
   ]
  },
  {
   "cell_type": "code",
   "execution_count": null,
   "metadata": {
    "collapsed": true
   },
   "outputs": [],
   "source": []
  },
  {
   "cell_type": "markdown",
   "metadata": {},
   "source": [
    "## C. Machine Learning Algorithms\n",
    "\n",
    "### [Understanding Support Vector Machine algorithm from examples along with code](https://www.analyticsvidhya.com/blog/2015/10/understaing-support-vector-machine-example-code/)\n",
    "\n",
    "### [Essentials of Machine Learning Algorithms (with Python and R Codes)](https://www.analyticsvidhya.com/blog/2015/08/common-machine-learning-algorithms/)\n",
    "\n",
    "### [5 Easy questions on Ensemble Modeling everyone should know](https://www.analyticsvidhya.com/blog/2015/09/questions-ensemble-modeling/)\n",
    "\n",
    "### [Top 10 data mining algorithms in plain English](https://rayli.net/blog/data/top-10-data-mining-algorithms-in-plain-english)\n",
    "\n",
    "### [Essentials of Machine Learning Algorithms ](https://www.analyticsvidhya.com/blog/2015/08/common-machine-learning-algorithms/)\n",
    "\n",
    "### [Logistic Regression Vs Decision Trees Vs SVM](http://www.edvancer.in/logistic-regression-vs-decision-trees-vs-svm-part1/)"
   ]
  },
  {
   "cell_type": "code",
   "execution_count": null,
   "metadata": {
    "collapsed": true
   },
   "outputs": [],
   "source": []
  },
  {
   "cell_type": "markdown",
   "metadata": {
    "collapsed": true
   },
   "source": [
    "## D. Machine Learning Examples\n",
    "\n",
    "### [An example machine learning notebook](http://nbviewer.jupyter.org/github/rhiever/Data-Analysis-and-Machine-Learning-Projects/blob/master/example-data-science-notebook/Example%20Machine%20Learning%20Notebook.ipynb#Step-5:-Classification)\n",
    "\n",
    "### [Your First Machine Learning Project in Python Step-By-Step](http://machinelearningmastery.com/machine-learning-in-python-step-by-step/)\n",
    "\n",
    "### [A Complete Tutorial to Learn Data Science with Python from Scratch](https://www.analyticsvidhya.com/blog/2016/01/complete-tutorial-learn-data-science-python-scratch-2/)\n",
    "\n",
    "### [Learn Data Science for Excellence and not just for the Exams](http://www.kdnuggets.com/2016/10/learn-datascience-for-excellence)\n",
    "\n",
    "### [This Machine Learning Project on Imbalanced Data Can Add Value to Your Resume](https://www.analyticsvidhya.com/blog/2016/09/this-machine-learning-project-on-imbalanced-data-can-add-value-to-your-resume/)\n",
    "\n",
    "### [Dealing with Imbalanced Classes in Machine Learning](https://towardsdatascience.com/dealing-with-imbalanced-classes-in-machine-learning-d43d6fa19d2)\n",
    "\n",
    "### [8 Tactics to Combat Imbalanced Classes in Your Machine Learning Dataset](http://machinelearningmastery.com/tactics-to-combat-imbalanced-classes-in-your-machine-learning-dataset/)\n",
    "\n",
    "### [Beginners Guide to Regression Analysis and Plot Interpretations](http://blog.hackerearth.com/beginners-guide-to-regression-analysis-plot-interpretations.html)\n",
    "\n",
    "### [Complete Guide to Parameter Tuning in Gradient Boosting (GBM) in Python](https://www.analyticsvidhya.com/blog/2016/02/complete-guide-parameter-tuning-gradient-boosting-gbm-python/)\n",
    "\n",
    "### [How to solve 90% of NLP problems: a step-by-step guide](https://blog.insightdatascience.com/how-to-solve-90-of-nlp-problems-a-step-by-step-guide-fda605278e4e)"
   ]
  },
  {
   "cell_type": "markdown",
   "metadata": {},
   "source": []
  },
  {
   "cell_type": "markdown",
   "metadata": {
    "collapsed": true
   },
   "source": [
    "## E. Kaggle Strategies\n",
    "\n",
    "### [如何在 Kaggle 首战中进入前 10%](https://dnc1994.com/2016/04/rank-10-percent-in-first-kaggle-competition/)\n",
    "\n",
    "### [Kaggle Bike Sharing Demand Prediction – How I got in top 5 percentile of participants?](https://www.analyticsvidhya.com/blog/2015/06/solution-kaggle-competition-bike-sharing-demand/)"
   ]
  },
  {
   "cell_type": "markdown",
   "metadata": {},
   "source": []
  },
  {
   "cell_type": "markdown",
   "metadata": {
    "collapsed": true
   },
   "source": [
    "## F. Interview Questions\n",
    "\n",
    "### [21 Must-Know Machine Learning Interview Questions and Answers](https://elitedatascience.com/machine-learning-interview-questions-answers)\n",
    "\n",
    "### [40 Interview Questions asked at Startups in Machine Learning / Data Science](https://www.analyticsvidhya.com/blog/2016/09/40-interview-questions-asked-at-startups-in-machine-learning-data-science/)\n",
    "\n",
    "### [7 Important Model Evaluation Error Metrics Everyone should know](https://www.analyticsvidhya.com/blog/2016/02/7-important-model-evaluation-error-metrics/)\n",
    "\n",
    "### [Accuracy, Precision, Recall & F1 Score: Interpretation of Performance Measures](http://blog.exsilio.com/all/accuracy-precision-recall-f1-score-interpretation-of-performance-measures/)\n",
    "\n",
    "### [Classification Evaluation - FROM PRECISION, RECALL AND F-MEASURE TO ROC, INFORMEDNESS, MARKEDNESS & CORRELATION ](http://www.bioinfopublication.org/files/articles/2_1_1_JMLT.pdf)"
   ]
  },
  {
   "cell_type": "markdown",
   "metadata": {},
   "source": []
  },
  {
   "cell_type": "markdown",
   "metadata": {
    "collapsed": true
   },
   "source": []
  },
  {
   "cell_type": "markdown",
   "metadata": {},
   "source": [
    "## G. Data Science Path\n",
    "\n",
    "### [16 Useful Advices for Aspiring Data Scientists](https://towardsdatascience.com/16-useful-advices-for-aspiring-data-scientists-6da9afa8c72c)\n",
    "\n",
    "### [Journey from a Python noob to a Kaggler on Python](https://www.analyticsvidhya.com/learning-paths-data-science-business-analytics-business-intelligence-big-data/learning-path-data-science-python/)\n",
    "\n",
    "### [17 Ultimate Data Science Projects To Boost Your Knowledge and Skills (& can be accessed freely)](https://www.analyticsvidhya.com/blog/2016/10/17-ultimate-data-science-projects-to-boost-your-knowledge-and-skills/)\n",
    "\n",
    "### [How to learn Deep Learning in 6 months](https://towardsdatascience.com/how-to-learn-deep-learning-in-6-months-e45e40ef7d48)"
   ]
  },
  {
   "cell_type": "markdown",
   "metadata": {
    "collapsed": true
   },
   "source": []
  },
  {
   "cell_type": "markdown",
   "metadata": {
    "collapsed": true
   },
   "source": [
    "## H. XGBoost:\n",
    "\n",
    "### [XGBoost](https://xgboost.readthedocs.io/en/latest/model.html)\n",
    "\n",
    "### [Complete Guide to Parameter Tuning in XGBoost ](https://www.analyticsvidhya.com/blog/2016/03/complete-guide-parameter-tuning-xgboost-with-codes-python/)"
   ]
  },
  {
   "cell_type": "markdown",
   "metadata": {
    "collapsed": true
   },
   "source": []
  },
  {
   "cell_type": "markdown",
   "metadata": {},
   "source": [
    "## I. Deep Learning:\n",
    "\n",
    "### [Deep Learning Research Review Week 1: Generative Adversarial Nets](https://adeshpande3.github.io/adeshpande3.github.io/Deep-Learning-Research-Review-Week-1-Generative-Adversarial-Nets)\n",
    "\n",
    "### [Deep Learning Research Review Week 2: Reinforcement Learning](https://adeshpande3.github.io/adeshpande3.github.io/Deep-Learning-Research-Review-Week-2-Reinforcement-Learning)\n",
    "\n",
    "### [Deep Learning Research Review Week 3: Natural Language Processing](https://adeshpande3.github.io/adeshpande3.github.io/Deep-Learning-Research-Review-Week-3-Natural-Language-Processing)\n",
    "\n",
    "### [Convolutional Neural Networks For All | Part I](https://towardsdatascience.com/convolutional-neural-networks-for-all-part-i-cdd282ee7947)"
   ]
  },
  {
   "cell_type": "markdown",
   "metadata": {
    "collapsed": true
   },
   "source": []
  },
  {
   "cell_type": "markdown",
   "metadata": {},
   "source": [
    "## J. Statistics\n",
    "\n",
    "### [Penn State Regression Method Lectures](https://onlinecourses.science.psu.edu/stat501/)\n",
    "\n",
    "### [Your Guide to Master Hypothesis Testing in Statistics](https://www.analyticsvidhya.com/blog/2015/09/hypothesis-testing-explained/)"
   ]
  },
  {
   "cell_type": "markdown",
   "metadata": {},
   "source": [
    "## H. NLP\n",
    "\n",
    "### [word-embedding-with-word2vec-and-fasttext](https://towardsdatascience.com/word-embedding-with-word2vec-and-fasttext-a209c1d3e12c)"
   ]
  },
  {
   "cell_type": "markdown",
   "metadata": {
    "collapsed": true
   },
   "source": [
    "\n"
   ]
  },
  {
   "cell_type": "markdown",
   "metadata": {
    "collapsed": false
   },
   "source": [
    "### 18. [Python Regex Cheatsheet](https://www.debuggex.com/cheatsheet/regex/python)"
   ]
  },
  {
   "cell_type": "markdown",
   "metadata": {
    "collapsed": true
   },
   "source": []
  },
  {
   "cell_type": "markdown",
   "metadata": {
    "collapsed": true
   },
   "source": []
  },
  {
   "cell_type": "markdown",
   "metadata": {},
   "source": []
  },
  {
   "cell_type": "markdown",
   "metadata": {
    "collapsed": true
   },
   "source": []
  },
  {
   "cell_type": "markdown",
   "metadata": {
    "collapsed": true
   },
   "source": []
  },
  {
   "cell_type": "markdown",
   "metadata": {},
   "source": []
  },
  {
   "cell_type": "markdown",
   "metadata": {},
   "source": []
  },
  {
   "cell_type": "markdown",
   "metadata": {},
   "source": []
  },
  {
   "cell_type": "markdown",
   "metadata": {
    "collapsed": true
   },
   "source": [
    "## Face recognition"
   ]
  },
  {
   "cell_type": "markdown",
   "metadata": {},
   "source": [
    "1. [Face Recognition With Python, in Under 25 Lines of Code](https://realpython.com/blog/python/face-recognition-with-python/)\n",
    "2. [Machine Learning is Fun! Part 4: Modern Face Recognition with Deep Learning](https://medium.com/@ageitgey/machine-learning-is-fun-part-4-modern-face-recognition-with-deep-learning-c3cffc121d78#.od4lypwrh)\n",
    "3. [Dlib 18.6 released: Make your own object detector!](http://blog.dlib.net/2014/02/dlib-186-released-make-your-own-object.html)\n",
    "4. [Labeled Faces in the Wild](http://vis-www.cs.umass.edu/lfw/)\n",
    "5. [How to monitor the screen lock/unlock in the Ubuntu 14.04](http://unix.stackexchange.com/questions/212347/how-to-monitor-the-screen-lock-unlock-in-the-ubuntu-14-04)\n",
    "6. [Facial Recognition in Python](http://scottlobdell.me/2014/01/facial-recognition-in-python/)\n",
    "7. [Face Detection in Python Using a Webcam](https://realpython.com/blog/python/face-detection-in-python-using-a-webcam/)\n",
    "7. [TRAIN YOUR OWN OPENCV HAAR CLASSIFIER](http://coding-robin.de/2013/07/22/train-your-own-opencv-haar-classifier.html)\n",
    "\n",
    "[install OpenCV in windows 10 C++](https://www.youtube.com/watch?v=7SM5OD2pZKY)\n",
    "[install OpenCV in windows 10 Python](https://www.youtube.com/watch?v=hMXldo27L8c&t=19s)"
   ]
  },
  {
   "cell_type": "code",
   "execution_count": null,
   "metadata": {
    "collapsed": true
   },
   "outputs": [],
   "source": []
  }
 ],
 "metadata": {
  "kernelspec": {
   "display_name": "Python 3",
   "language": "python",
   "name": "python3"
  },
  "language_info": {
   "codemirror_mode": {
    "name": "ipython",
    "version": 3
   },
   "file_extension": ".py",
   "mimetype": "text/x-python",
   "name": "python",
   "nbconvert_exporter": "python",
   "pygments_lexer": "ipython3",
   "version": "3.6.0"
  }
 },
 "nbformat": 4,
 "nbformat_minor": 0
}
