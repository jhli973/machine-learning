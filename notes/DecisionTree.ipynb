{
 "cells": [
  {
   "cell_type": "markdown",
   "metadata": {},
   "source": [
    "## Decision Tree\n",
    "[Sklearn Link]('http://scikit-learn.org/stable/modules/tree.html')"
   ]
  },
  {
   "cell_type": "code",
   "execution_count": 30,
   "metadata": {
    "collapsed": false
   },
   "outputs": [],
   "source": [
    "import sys\n",
    "from class_vis import prettyPicture\n",
    "from prep_terrain_data import makeTerrainData\n",
    "\n",
    "import numpy as np\n",
    "import pylab as pl"
   ]
  },
  {
   "cell_type": "markdown",
   "metadata": {},
   "source": [
    "### 1. Generate decision tree classifier model and visularize it"
   ]
  },
  {
   "cell_type": "code",
   "execution_count": 56,
   "metadata": {
    "collapsed": false
   },
   "outputs": [
    {
     "data": {
      "image/png": "[encoded data removed]",
      "text/plain": [
       "<matplotlib.figure.Figure at 0xa04b780>"
      ]
     },
     "metadata": {},
     "output_type": "display_data"
    }
   ],
   "source": [
    "# import data\n",
    "features_train, labels_train, features_test, labels_test = makeTerrainData()\n",
    "\n",
    "\n",
    "#### train model\n",
    "from sklearn.tree import DecisionTreeClassifier\n",
    "\n",
    "clf = DecisionTreeClassifier()\n",
    "clf = clf.fit(features_train, labels_train)\n",
    "\n",
    "\n",
    "#### grader code\n",
    "prettyPicture(clf, features_test, labels_test)"
   ]
  },
  {
   "cell_type": "markdown",
   "metadata": {},
   "source": [
    "### 2. Calculate the accuracy"
   ]
  },
  {
   "cell_type": "code",
   "execution_count": 36,
   "metadata": {
    "collapsed": false
   },
   "outputs": [
    {
     "name": "stdout",
     "output_type": "stream",
     "text": [
      "The test accuracy is:  0.912\n"
     ]
    }
   ],
   "source": [
    "### compute the accuracy on the test set\n",
    "from sklearn.metrics import accuracy_score\n",
    "\n",
    "acc = accuracy_score(labels_test, clf.predict(features_test))\n",
    "\n",
    "print \"The test accuracy is: \", acc"
   ]
  },
  {
   "cell_type": "markdown",
   "metadata": {},
   "source": [
    "### 3. Decision tree parameters\n",
    "\n",
    "DecisionTreeClassifier(criterion='gini', splitter='best', max_depth=None, min_samples_split=2, min_samples_leaf=1, min_weight_fraction_leaf=0.0, max_features=None, random_state=None, max_leaf_nodes=None, min_impurity_split=1e-07, class_weight=None, presort=False)"
   ]
  },
  {
   "cell_type": "code",
   "execution_count": 93,
   "metadata": {
    "collapsed": false
   },
   "outputs": [
    {
     "name": "stdout",
     "output_type": "stream",
     "text": [
      "[(20, 0.924), (10, 0.912), (50, 0.912), (2, 0.908)]\n",
      "The best split is 20 and the accuracy under this condition is 0.924\n"
     ]
    }
   ],
   "source": [
    "# find the best min_sample_split\n",
    "splits = [2,10, 20, 50]\n",
    "accuracys = {}\n",
    "\n",
    "for split in splits:\n",
    "    clf = DecisionTreeClassifier(min_samples_split=split)\n",
    "    clf = clf.fit(features_train, labels_train)\n",
    "    accuracys[split] = round(accuracy_score(labels_test, clf.predict(features_test)),3)\n",
    "\n",
    "### sort the dictionary by value descending and then by key ascending\n",
    "sorted_acc =  sorted(accuracys.items(), key=lambda x: (-x[1], x[0]), reverse=False)\n",
    "\n",
    "print sorted_acc\n",
    "print \"The best split is {0} and the accuracy under this condition is {1}\".format(sorted_acc[0][0], sorted_acc[0][1])"
   ]
  },
  {
   "cell_type": "code",
   "execution_count": 92,
   "metadata": {
    "collapsed": false
   },
   "outputs": [
    {
     "name": "stdout",
     "output_type": "stream",
     "text": [
      "[(6, 0.924), (8, 0.924), (10, 0.924), (16, 0.924), (30, 0.924), (4, 0.92), (2, 0.848)]\n",
      "The best depth is 6 and the accuracy under this condition is 0.924\n"
     ]
    }
   ],
   "source": [
    "depths = [2,4, 6, 8,10,16, 30]\n",
    "accuracys = {}\n",
    "\n",
    "for depth in depths:\n",
    "    clf = DecisionTreeClassifier(min_samples_split=20, max_depth=depth)\n",
    "    clf = clf.fit(features_train, labels_train)\n",
    "    accuracys[depth] = round(accuracy_score(labels_test, clf.predict(features_test)), 3)\n",
    "\n",
    "### sort the dictionary by value descending and then by key ascending\n",
    "sorted_acc =  sorted(accuracys.items(), key=lambda x: (-x[1], x[0]), reverse=False)\n",
    "print sorted_acc\n",
    "print \"The best depth is {0} and the accuracy under this condition is {1}\".format(sorted_acc[0][0], sorted_acc[0][1])"
   ]
  },
  {
   "cell_type": "markdown",
   "metadata": {},
   "source": [
    "### 4. Impurity - Entropy and Information Gain\n",
    "\n",
    "Entropy - controls how a DT decides where to split the data. It is a measure of impurity in a bunch of examples. Entropy equals 0 means lowest impurity, all examples are same class. ntropy equals 1.0 means highest impurity, all examples are evenly split between classes.\n",
    "\n",
    "Information gain = parent entropy - weighted average children entropy\n",
    "\n",
    "Decision tree algorithm: maximize information gain\n",
    "\n",
    "Q1: calculate parent (speed) entropy \n",
    "\n",
    "\n",
    "\n",
    "|  grade    |   bumpiness   |   speed limit  |   speed       |\n",
    "|-----------|:--------------|:---------------|:--------------|\n",
    "| steep     |    bumpy      |         yes    |     slow      |\n",
    "| steep     |   smooth      |         yes    |     slow      |\n",
    "|  flat     |    bumpy      |          no    |     fast      |\n",
    "| steep     |   smooth      |          no    |     fast      |\n",
    "\n",
    "Q2: calculate information gain when splitting by speed and then splitting by grade\n",
    "\n",
    "![pic](InformationGain.png)"
   ]
  },
  {
   "cell_type": "code",
   "execution_count": 97,
   "metadata": {
    "collapsed": false
   },
   "outputs": [
    {
     "name": "stdout",
     "output_type": "stream",
     "text": [
      "The entropy for speed is 1.0\n"
     ]
    }
   ],
   "source": [
    "# Q1\n",
    "from math import log\n",
    "\n",
    "Pslow = 1/2.0; Pfast = 1/ 2.0\n",
    "print \"The entropy for speed is {}\".format(-Pslow * log(Pslow, 2) - Pfast * log(Pfast,2))"
   ]
  },
  {
   "cell_type": "code",
   "execution_count": 101,
   "metadata": {
    "collapsed": false
   },
   "outputs": [
    {
     "name": "stdout",
     "output_type": "stream",
     "text": [
      "The information gain is 0.311\n"
     ]
    }
   ],
   "source": [
    "# Q2\n",
    "\n",
    "# node ssf entropy : Pslow = 2/3, Pfast = 1/3\n",
    "ent_ssf = (-2/3.0 * log(2/3.0, 2) - 1/3.0 * log(1/3.0,2))\n",
    "\n",
    "# node f entropy\n",
    "ent_f = 0\n",
    "\n",
    "# weighted average of children entropy: weight for ssf node is 3/4 and for f is 1/4\n",
    "\n",
    "wt_child_ent = 3/4.0*(ent_ssf) + 1/4.0 * ent_f\n",
    "\n",
    "ig = 1 - wt_child_ent\n",
    "print \"The information gain is {}\".format(round(ig,3))"
   ]
  },
  {
   "cell_type": "markdown",
   "metadata": {},
   "source": [
    "### 5. prons and cons\n",
    "\n",
    "prons: easy to use and easy to interprete, can be used for  continuous and categorical inputs.\n",
    "\n",
    "cons: prone to overfitting, especially you have a lot of features and have a complicated decision tree it can overfit the data.\n",
    "So it is important to stop the tree at a propriate time"
   ]
  },
  {
   "cell_type": "code",
   "execution_count": null,
   "metadata": {
    "collapsed": true
   },
   "outputs": [],
   "source": []
  }
 ],
 "metadata": {
  "kernelspec": {
   "display_name": "Python 2",
   "language": "python",
   "name": "python2"
  },
  "language_info": {
   "codemirror_mode": {
    "name": "ipython",
    "version": 2
   },
   "file_extension": ".py",
   "mimetype": "text/x-python",
   "name": "python",
   "nbconvert_exporter": "python",
   "pygments_lexer": "ipython2",
   "version": "2.7.11"
  }
 },
 "nbformat": 4,
 "nbformat_minor": 0
}
