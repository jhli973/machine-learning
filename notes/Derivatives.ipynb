{
 "cells": [
  {
   "cell_type": "markdown",
   "metadata": {},
   "source": [
    "## Refer to Nancy youtube [mathbff channel](https://www.youtube.com/watch?v=hCLfogkqzEk)"
   ]
  },
  {
   "cell_type": "markdown",
   "metadata": {},
   "source": [
    "### POWER RULE:\n",
    "\n",
    "$\\frac{d}{d_x}(x^n) = nx^{(n - 1)}$\n",
    "\n",
    "Example: find the derivative of the following function\n",
    "\n",
    "$ f(x) = x^4 + 2x^3 - x^2 + 4x -1$\n",
    "\n",
    "$f'(x) = 4x^3 + 2 * 3 x^2 - 2 x $"
   ]
  },
  {
   "cell_type": "markdown",
   "metadata": {},
   "source": [
    "### PRODUCT RULE\n",
    "\n",
    "$ \\frac{d}{d_x}(uv) = u \\frac{d_v}{d_x} + v \\frac{d_u}{d_x}$    or \n",
    "\n",
    "$ \\frac{d}{d_x}[f(x).g(x)] = f(x).g'(x) + g(x).f'(x)$  \n",
    "\n",
    "Example: find the derivative of the following function\n",
    "\n",
    "$y = (x^2 + 1)(x^3 + x + 5)$\n",
    "\n",
    "$ \\frac{d_y}{d_x} = (x^2 + 1)(3x^2 + 1) + (x^3 + x + 5) (2x) = 5x^4 + 6x^2 + 10x + 1 $  "
   ]
  },
  {
   "cell_type": "markdown",
   "metadata": {},
   "source": [
    "### QUOTIENT RULE\n",
    "\n",
    "$ \\frac {d}{d_x}(\\frac{u}{v}) = \\frac{v \\frac{d_u}{d_x} - u \\frac{d_v}{d_x}}{v^2}$ (if v != 0)\n",
    "\n",
    "$ \\frac{d}{d_x}[\\frac{f(x)}{g(x)}] = \\frac{f(x).g'(x) + g(x).f'(x)}{[g(x)]^2}   $(if g(x) != 0 )\n",
    "\n",
    "Example: find the derivative of the following function:\n",
    "\n",
    "$f(x) = \\frac{x^2 + 1}{3x - 2} $\n",
    "\n",
    "$f'(x) = \\frac{(3x - 2)(2x) - (x^2 + 1) 3}{(3x - 2)^2} = \\frac{3x^2 - 4x -3}{(3x - 2)^2}$"
   ]
  },
  {
   "cell_type": "markdown",
   "metadata": {},
   "source": [
    "### CHAIN RULE\n",
    "\n",
    "$ \\frac {d_y}{d_x} = (derivative \\ of \\ OUTSIDE \\ function, \\ leaving \\ inside \\ alone).(derivative \\ of \\ INSIDE \\ function)$\n",
    "\n",
    "Example: find the derivative of the following function:\n",
    "\n",
    "$ y = (3x + 1) ^7$\n",
    "\n",
    "$ \\frac{d_y}{d_x} = 7(3x + 1)^6.(3) = 21(3x + 1)^6$\n",
    "\n",
    "$h(x) = (x^2 + 5x - 6) ^9$\n",
    "\n",
    "$h'(x) = 9(x^2 +5x - 6)^8.(2x + 5) $\n",
    "\n",
    "$y = sin(x^2 - 3x)$\n",
    "\n",
    "$\\frac{d_y}{d_x} = cos(x^2 - 3x).(2x -3) $\n",
    "\n",
    "$ y = sin(3x) $\n",
    "\n",
    "$ \\frac{d_y}{d_x} = cos(3x).3$"
   ]
  },
  {
   "cell_type": "markdown",
   "metadata": {},
   "source": [
    "### Double chaine rule\n",
    "\n",
    "$ y = (1 + cos2x) ^2 $  \n",
    "\n",
    "$ y' = 2(1 + cos2x)(-sin2x)(2) = -4(1 + cos2x)sin2x$ "
   ]
  },
  {
   "cell_type": "code",
   "execution_count": null,
   "metadata": {
    "collapsed": true
   },
   "outputs": [],
   "source": []
  }
 ],
 "metadata": {
  "anaconda-cloud": {},
  "kernelspec": {
   "display_name": "Python [conda env:py35]",
   "language": "python",
   "name": "conda-env-py35-py"
  },
  "language_info": {
   "codemirror_mode": {
    "name": "ipython",
    "version": 3
   },
   "file_extension": ".py",
   "mimetype": "text/x-python",
   "name": "python",
   "nbconvert_exporter": "python",
   "pygments_lexer": "ipython3",
   "version": "3.5.2"
  }
 },
 "nbformat": 4,
 "nbformat_minor": 1
}
