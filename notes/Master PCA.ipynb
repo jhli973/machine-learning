{
 "cells": [
  {
   "cell_type": "markdown",
   "metadata": {},
   "source": [
    "Please refer [here](https://www.wakari.io/sharing/bundle/quasiben_tr/PCA?has_login=False) ,[here](http://sebastianraschka.com/Articles/2014_pca_step_by_step.html) and [here](https://discussions.udacity.com/t/checking-my-understanding-of-pca/160465)"
   ]
  },
  {
   "cell_type": "code",
   "execution_count": 20,
   "metadata": {
    "collapsed": false
   },
   "outputs": [],
   "source": [
    "import numpy as np\n",
    "from matplotlib import pyplot as plt\n",
    "%matplotlib inline"
   ]
  },
  {
   "cell_type": "code",
   "execution_count": 28,
   "metadata": {
    "collapsed": false
   },
   "outputs": [
    {
     "data": {
      "text/plain": [
       "[<matplotlib.lines.Line2D at 0x9bf3320>]"
      ]
     },
     "execution_count": 28,
     "metadata": {},
     "output_type": "execute_result"
    },
    {
     "data": {
      "image/png": "[encoded data removed]",
      "text/plain": [
       "<matplotlib.figure.Figure at 0x989dd68>"
      ]
     },
     "metadata": {},
     "output_type": "display_data"
    }
   ],
   "source": [
    "# create 2D Gaussian distribution centered at 1,1 with covariance of ([[1,0],[3,10]]\n",
    "ps = np.random.multivariate_normal(mean=(1,1), cov=[[1,0], [3,10]], size=100)\n",
    "x, y = ps.T\n",
    "plt.plot(x,y,'r.')"
   ]
  },
  {
   "cell_type": "markdown",
   "metadata": {},
   "source": [
    "# Calcuclate eigenvalues and eigenvector (PCA)"
   ]
  },
  {
   "cell_type": "code",
   "execution_count": 29,
   "metadata": {
    "collapsed": false
   },
   "outputs": [
    {
     "name": "stdout",
     "output_type": "stream",
     "text": [
      "[ 9.38196193  0.93371484]\n"
     ]
    }
   ],
   "source": [
    "mean = np.mean(ps.T, axis=1)\n",
    "demeaned = ps - mean\n",
    "evals, evecs = np.linalg.eig(np.cov(demeaned.T))\n",
    "\n",
    "#evals,evecs are not guaranteed to be ordered\n",
    "order = evals.argsort()[::-1]\n",
    "\n",
    "# show descending evals\n",
    "print evals[order]"
   ]
  },
  {
   "cell_type": "code",
   "execution_count": 30,
   "metadata": {
    "collapsed": false
   },
   "outputs": [
    {
     "name": "stdout",
     "output_type": "stream",
     "text": [
      "[-0.32102984 -0.94706908]\n"
     ]
    }
   ],
   "source": [
    "# show descending evecs\n",
    "print evecs[:, order[0]]"
   ]
  },
  {
   "cell_type": "code",
   "execution_count": 31,
   "metadata": {
    "collapsed": false
   },
   "outputs": [
    {
     "name": "stdout",
     "output_type": "stream",
     "text": [
      "[ 0.09903311  0.99508414]\n"
     ]
    }
   ],
   "source": [
    "print evals/np.linalg.norm(evals)"
   ]
  },
  {
   "cell_type": "markdown",
   "metadata": {},
   "source": [
    "# Calculate with sklearn decomposition PCA lib"
   ]
  },
  {
   "cell_type": "code",
   "execution_count": 32,
   "metadata": {
    "collapsed": true
   },
   "outputs": [],
   "source": [
    "from sklearn.decomposition import PCA\n",
    "pca = PCA(n_components=2, whiten=True).fit(demeaned)"
   ]
  },
  {
   "cell_type": "code",
   "execution_count": 33,
   "metadata": {
    "collapsed": false
   },
   "outputs": [
    {
     "name": "stdout",
     "output_type": "stream",
     "text": [
      "[[-0.32102984 -0.94706908]\n",
      " [-0.94706908  0.32102984]]\n"
     ]
    }
   ],
   "source": [
    "print pca.components_"
   ]
  },
  {
   "cell_type": "code",
   "execution_count": 34,
   "metadata": {
    "collapsed": false
   },
   "outputs": [
    {
     "name": "stdout",
     "output_type": "stream",
     "text": [
      "[ 0.99508414  0.09903311]\n"
     ]
    }
   ],
   "source": [
    "print pca.explained_variance_ratio_ / np.linalg.norm(pca.explained_variance_ratio_)"
   ]
  },
  {
   "cell_type": "code",
   "execution_count": null,
   "metadata": {
    "collapsed": true
   },
   "outputs": [],
   "source": []
  }
 ],
 "metadata": {
  "kernelspec": {
   "display_name": "Python 2",
   "language": "python",
   "name": "python2"
  },
  "language_info": {
   "codemirror_mode": {
    "name": "ipython",
    "version": 2
   },
   "file_extension": ".py",
   "mimetype": "text/x-python",
   "name": "python",
   "nbconvert_exporter": "python",
   "pygments_lexer": "ipython2",
   "version": "2.7.12"
  }
 },
 "nbformat": 4,
 "nbformat_minor": 0
}
