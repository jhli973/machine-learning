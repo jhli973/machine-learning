{
 "cells": [
  {
   "cell_type": "code",
   "execution_count": 11,
   "metadata": {
    "collapsed": true
   },
   "outputs": [],
   "source": [
    "import numpy as np\n",
    "import random\n",
    "import matplotlib.pyplot as plt\n",
    "%matplotlib inline"
   ]
  },
  {
   "cell_type": "code",
   "execution_count": 12,
   "metadata": {
    "collapsed": true
   },
   "outputs": [],
   "source": [
    "def ageNetWorthData():\n",
    "\n",
    "    random.seed(42)\n",
    "    numpy.random.seed(42)\n",
    "\n",
    "    ages = []\n",
    "    for ii in range(100):\n",
    "        ages.append( random.randint(20,65) )\n",
    "    net_worths = [ii * 6.25 + numpy.random.normal(scale=40.) for ii in ages]\n",
    "    \n",
    "    ### need massage list into a 2d numpy array to get it to work in LinearRegression\n",
    "    ages       = numpy.reshape( numpy.array(ages), (len(ages), 1))\n",
    "    net_worths = numpy.reshape( numpy.array(net_worths), (len(net_worths), 1))\n",
    "\n",
    "    from sklearn.model_selection import train_test_split\n",
    "    ages_train, ages_test, net_worths_train, net_worths_test = train_test_split(ages, net_worths)\n",
    "\n",
    "    return ages_train, ages_test, net_worths_train, net_worths_test"
   ]
  },
  {
   "cell_type": "code",
   "execution_count": 13,
   "metadata": {
    "collapsed": false
   },
   "outputs": [],
   "source": [
    "# generate a model\n",
    "\n",
    "ages_train, ages_test, net_worths_train, net_worths_test = ageNetWorthData()\n",
    "\n",
    "\n",
    "\n",
    "from sklearn.linear_model import LinearRegression\n",
    "\n",
    "reg = LinearRegression()\n",
    "reg.fit(ages_train, net_worths_train)\n",
    "\n",
    "### get Katie's net worth (she's 27)\n",
    "### sklearn predictions are returned in an array, so you'll want to index into\n",
    "### the output to get what you want, e.g. net_worth = predict([[27]])[0][0] (not\n",
    "### exact syntax, the point is the [0] at the end). In addition, make sure the\n",
    "### argument to your prediction function is in the expected format - if you get\n",
    "### a warning about needing a 2d array for your data, a list of lists will be\n",
    "### interpreted by sklearn as such (e.g. [[27]]).\n",
    "km_net_worth = reg.predict([[27]])[0][0] ### fill in the line of code to get the right value\n",
    "\n",
    "### get the slope\n",
    "### again, you'll get a 2-D array, so stick the [0][0] at the end\n",
    "slope = reg.coef_[0][0] ### fill in the line of code to get the right value\n",
    "\n",
    "### get the intercept\n",
    "### here you get a 1-D array, so stick [0] on the end to access\n",
    "### the info we want\n",
    "intercept = reg.intercept_[0] ### fill in the line of code to get the right value\n",
    "\n",
    "\n",
    "### get the score on test data\n",
    "test_score = reg.score(ages_test, net_worths_test) ### fill in the line of code to get the right value\n",
    "\n",
    "\n",
    "### get the score on the training data\n",
    "training_score = reg.score(ages_train, net_worths_train) ### fill in the line of code to get the right value\n",
    "\n",
    "\n",
    "\n",
    "def submitFit():\n",
    "    # all of the values in the returned dictionary are expected to be\n",
    "    # numbers for the purpose of the grader.\n",
    "    return {\"networth\":km_net_worth,\n",
    "            \"slope\":slope,\n",
    "            \"intercept\":intercept,\n",
    "            \"stats on test\":test_score,\n",
    "            \"stats on training\": training_score}"
   ]
  },
  {
   "cell_type": "code",
   "execution_count": 14,
   "metadata": {
    "collapsed": false
   },
   "outputs": [
    {
     "data": {
      "image/png": "[encoded data removed]",
      "text/plain": [
       "<matplotlib.figure.Figure at 0x22fc620e128>"
      ]
     },
     "metadata": {},
     "output_type": "display_data"
    }
   ],
   "source": [
    "# visualizing regression\n",
    "fig=plt.figure()\n",
    "\n",
    "plt.scatter(ages_train, net_worths_train, color='blue', label=\"training\")\n",
    "plt.scatter(ages_test, net_worths_test, color='red', label=\"testing\")\n",
    "plt.plot(ages_train, reg.predict(ages_train), color = 'blue',linewidth=2,  alpha=0.5)\n",
    "plt.plot(ages_test, reg.predict(ages_test), color = 'red', linewidth=2, alpha=0.5)\n",
    "\n",
    "plt.title(\"Predictions of networths\", fontsize=20)\n",
    "plt.xlabel(\"Ages\", fontsize=14)\n",
    "plt.ylabel(\"Net worths\", fontsize=14)\n",
    "plt.legend(loc='upper left')\n",
    "plt.show()  "
   ]
  },
  {
   "cell_type": "markdown",
   "metadata": {},
   "source": [
    "### Calculate slope and intercept"
   ]
  },
  {
   "cell_type": "code",
   "execution_count": 17,
   "metadata": {
    "collapsed": false
   },
   "outputs": [
    {
     "name": "stdout",
     "output_type": "stream",
     "text": [
      "Your linear model is y=5.513513513513513*x+30.70270270270271\n"
     ]
    }
   ],
   "source": [
    "import numpy as np\n",
    "\n",
    "sleep = [5,6,7,8,10]\n",
    "scores = [65,51,75,75,86]\n",
    "\n",
    "\n",
    "def compute_regression(sleep,scores):\n",
    "\n",
    "    #\tFirst, compute the average amount of each list\n",
    "\n",
    "    avg_sleep = np.mean(sleep)\n",
    "    avg_scores = np.mean(scores)\n",
    "\n",
    "    #\tThen normalize the lists by subtracting the mean value from each entry\n",
    "\n",
    "    normalized_sleep = [x - avg_sleep for x in sleep]\n",
    "    normalized_scores = [x - avg_scores for x in scores]\n",
    "\n",
    "    #\tCompute the slope of the line by taking the sum over each student\n",
    "    #\tof the product of their normalized sleep times their normalized test score.\n",
    "    #\tThen divide this by the sum of squares of the normalized sleep times.\n",
    "\n",
    "    slope = np.dot(normalized_sleep, normalized_scores) / np.sum([ x * x for x in normalized_sleep])\n",
    "\n",
    "    #\tFinally, We have a linear function of the form\n",
    "    #\ty - avg_y = slope * ( x - avg_x )\n",
    "    #\tRewrite this function in the form\n",
    "    #\ty = m * x + b\n",
    "    #\tThen return the values m, b\n",
    "    m = slope\n",
    "    b = avg_scores - slope * avg_sleep\n",
    "    \n",
    "    return m,b\n",
    "\n",
    "\n",
    "if __name__==\"__main__\":\n",
    "    m,b = compute_regression(sleep,scores)\n",
    "    print(\"Your linear model is y={}*x+{}\".format(m,b))"
   ]
  },
  {
   "cell_type": "code",
   "execution_count": 18,
   "metadata": {
    "collapsed": false
   },
   "outputs": [
    {
     "data": {
      "image/png": "[encoded data removed]",
      "text/plain": [
       "<matplotlib.figure.Figure at 0x22fc62b9438>"
      ]
     },
     "metadata": {},
     "output_type": "display_data"
    }
   ],
   "source": [
    "plt.scatter(sleep, scores, color='blue')\n",
    "\n",
    "plt.plot(sleep, [(5.51351351351*x+30.7027027027) for x in sleep])\n",
    "plt.xlabel('Sleep')\n",
    "plt.ylabel('Scores')\n",
    "plt.show()"
   ]
  },
  {
   "cell_type": "markdown",
   "metadata": {},
   "source": [
    "### Limitation of a simple linear model\n",
    "\n",
    "This is the limitation of extrapolating beyond the range of the data we have: we may get nonsensical answers, \n",
    "like infinite sleep leads to an infinitely better exam grade.\n",
    "\n",
    "### One solution: polynomial regression"
   ]
  },
  {
   "cell_type": "code",
   "execution_count": 19,
   "metadata": {
    "collapsed": false
   },
   "outputs": [
    {
     "data": {
      "text/plain": [
       "array([  0.43004418,  -0.97201767,  53.83210604])"
      ]
     },
     "execution_count": 19,
     "metadata": {},
     "output_type": "execute_result"
    }
   ],
   "source": [
    "# use numpy ployfit function returns a vector of coefficients, highest power first\n",
    "np.polyfit(sleep, scores, 2)"
   ]
  },
  {
   "cell_type": "code",
   "execution_count": 20,
   "metadata": {
    "collapsed": false
   },
   "outputs": [
    {
     "data": {
      "image/png": "[encoded data removed]",
      "text/plain": [
       "<matplotlib.figure.Figure at 0x22fc6164b38>"
      ]
     },
     "metadata": {},
     "output_type": "display_data"
    }
   ],
   "source": [
    "plt.scatter(sleep, scores, color='blue')\n",
    "\n",
    "plt.plot(sleep, [(5.51351351351*x+30.7027027027) for x in sleep], label='Linear Regression')\n",
    "plt.plot(sleep, [(0.43004418*x*x + -0.97201767*x+53.83210604) for x in sleep], label='Polynomial Regression')\n",
    "plt.xlabel('Sleep')\n",
    "plt.ylabel('Scores')\n",
    "\n",
    "plt.legend(loc='upper left')\n",
    "plt.show()"
   ]
  },
  {
   "cell_type": "code",
   "execution_count": 26,
   "metadata": {
    "collapsed": false
   },
   "outputs": [
    {
     "data": {
      "text/plain": [
       "<matplotlib.collections.PathCollection at 0x22fc64cc550>"
      ]
     },
     "execution_count": 26,
     "metadata": {},
     "output_type": "execute_result"
    },
    {
     "data": {
      "image/png": "[encoded data removed]",
      "text/plain": [
       "<matplotlib.figure.Figure at 0x22fc61a6208>"
      ]
     },
     "metadata": {},
     "output_type": "display_data"
    }
   ],
   "source": [
    "rng = np.random.RandomState(1)\n",
    "\n",
    "x = 10 * rng.rand(50)\n",
    "y = 2 * x - 5 + rng.randn(50)\n",
    "\n",
    "plt.scatter(x, y)"
   ]
  },
  {
   "cell_type": "code",
   "execution_count": 29,
   "metadata": {
    "collapsed": false
   },
   "outputs": [
    {
     "data": {
      "text/plain": [
       "[<matplotlib.lines.Line2D at 0x22fc75e00b8>]"
      ]
     },
     "execution_count": 29,
     "metadata": {},
     "output_type": "execute_result"
    },
    {
     "data": {
      "image/png": "[encoded data removed]",
      "text/plain": [
       "<matplotlib.figure.Figure at 0x22fc648b2b0>"
      ]
     },
     "metadata": {},
     "output_type": "display_data"
    }
   ],
   "source": [
    "from sklearn.linear_model import LinearRegression\n",
    "\n",
    "model = LinearRegression(fit_intercept=True)\n",
    "\n",
    "model.fit(x[:, np.newaxis], y)\n",
    "\n",
    "xfit = np.linspace(0,10,1000)  #Return evenly spaced numbers over a specified interval.\n",
    "yfit = model.predict(xfit[:, np.newaxis])\n",
    "\n",
    "plt.scatter(x, y)\n",
    "plt.plot(xfit, yfit)"
   ]
  },
  {
   "cell_type": "code",
   "execution_count": 32,
   "metadata": {
    "collapsed": false
   },
   "outputs": [
    {
     "name": "stdout",
     "output_type": "stream",
     "text": [
      "2.02720881036\n",
      "-4.99857708555\n"
     ]
    }
   ],
   "source": [
    "print(model.coef_[0])\n",
    "print(model.intercept_)"
   ]
  },
  {
   "cell_type": "code",
   "execution_count": 39,
   "metadata": {
    "collapsed": false
   },
   "outputs": [
    {
     "name": "stdout",
     "output_type": "stream",
     "text": [
      "[ 1.5 -2.   1.3]\n",
      "0.5\n"
     ]
    }
   ],
   "source": [
    "x = 10 * rng.rand(4,3)\n",
    "y = 0.5 + np.dot(x, [1.5, -2., 1.3])\n",
    "\n",
    "model.fit(x, y)\n",
    "print(model.coef_)\n",
    "print(model.intercept_)"
   ]
  },
  {
   "cell_type": "code",
   "execution_count": 44,
   "metadata": {
    "collapsed": false
   },
   "outputs": [
    {
     "data": {
      "text/plain": [
       "array([[  2.,   4.,   8.],\n",
       "       [  3.,   9.,  27.],\n",
       "       [  4.,  16.,  64.]])"
      ]
     },
     "execution_count": 44,
     "metadata": {},
     "output_type": "execute_result"
    }
   ],
   "source": [
    "from sklearn.preprocessing import PolynomialFeatures\n",
    "x = np.array([2,3,4])\n",
    "poly = PolynomialFeatures(3, include_bias=False)\n",
    "poly.fit_transform(x[:, None])"
   ]
  },
  {
   "cell_type": "code",
   "execution_count": 46,
   "metadata": {
    "collapsed": false
   },
   "outputs": [],
   "source": [
    "from sklearn.pipeline import make_pipeline\n",
    "\n",
    "poly_model = make_pipeline(PolynomialFeatures(7), LinearRegression())"
   ]
  },
  {
   "cell_type": "code",
   "execution_count": 50,
   "metadata": {
    "collapsed": false
   },
   "outputs": [
    {
     "data": {
      "text/plain": [
       "[<matplotlib.lines.Line2D at 0x22fc76d3400>]"
      ]
     },
     "execution_count": 50,
     "metadata": {},
     "output_type": "execute_result"
    },
    {
     "data": {
      "image/png": "[encoded data removed]",
      "text/plain": [
       "<matplotlib.figure.Figure at 0x22fc7545b70>"
      ]
     },
     "metadata": {},
     "output_type": "display_data"
    }
   ],
   "source": [
    "x = 10 * rng.rand(50)\n",
    "y = np.sin(x) + 0.1 * rng.randn(50)\n",
    "\n",
    "poly_model.fit(x[:, np.newaxis], y)\n",
    "yfit = poly_model.predict(xfit[:, None]) # np.newaxis are same as None\n",
    "\n",
    "plt.scatter(x, y)\n",
    "plt.plot(xfit, yfit)"
   ]
  },
  {
   "cell_type": "markdown",
   "metadata": {},
   "source": [
    "## Predict bicyclers by weather "
   ]
  },
  {
   "cell_type": "code",
   "execution_count": 121,
   "metadata": {
    "collapsed": false
   },
   "outputs": [
    {
     "data": {
      "text/html": [
       "<div>\n",
       "<table border=\"1\" class=\"dataframe\">\n",
       "  <thead>\n",
       "    <tr style=\"text-align: right;\">\n",
       "      <th></th>\n",
       "      <th>Fremont Bridge West Sidewalk</th>\n",
       "      <th>Fremont Bridge East Sidewalk</th>\n",
       "    </tr>\n",
       "    <tr>\n",
       "      <th>Date</th>\n",
       "      <th></th>\n",
       "      <th></th>\n",
       "    </tr>\n",
       "  </thead>\n",
       "  <tbody>\n",
       "    <tr>\n",
       "      <th>2012-10-03 00:00:00</th>\n",
       "      <td>4.0</td>\n",
       "      <td>9.0</td>\n",
       "    </tr>\n",
       "    <tr>\n",
       "      <th>2012-10-03 01:00:00</th>\n",
       "      <td>4.0</td>\n",
       "      <td>6.0</td>\n",
       "    </tr>\n",
       "  </tbody>\n",
       "</table>\n",
       "</div>"
      ],
      "text/plain": [
       "                     Fremont Bridge West Sidewalk  \\\n",
       "Date                                                \n",
       "2012-10-03 00:00:00                           4.0   \n",
       "2012-10-03 01:00:00                           4.0   \n",
       "\n",
       "                     Fremont Bridge East Sidewalk  \n",
       "Date                                               \n",
       "2012-10-03 00:00:00                           9.0  \n",
       "2012-10-03 01:00:00                           6.0  "
      ]
     },
     "execution_count": 121,
     "metadata": {},
     "output_type": "execute_result"
    }
   ],
   "source": [
    "import pandas as pd\n",
    "cnts = pd.read_csv('FremontBridge.csv', index_col = 'Date', parse_dates=True)\n",
    "cnts.head(2)"
   ]
  },
  {
   "cell_type": "code",
   "execution_count": 122,
   "metadata": {
    "collapsed": false
   },
   "outputs": [
    {
     "data": {
      "text/html": [
       "<div>\n",
       "<table border=\"1\" class=\"dataframe\">\n",
       "  <thead>\n",
       "    <tr style=\"text-align: right;\">\n",
       "      <th></th>\n",
       "      <th>total</th>\n",
       "    </tr>\n",
       "    <tr>\n",
       "      <th>Date</th>\n",
       "      <th></th>\n",
       "    </tr>\n",
       "  </thead>\n",
       "  <tbody>\n",
       "    <tr>\n",
       "      <th>2012-10-03</th>\n",
       "      <td>3521.0</td>\n",
       "    </tr>\n",
       "    <tr>\n",
       "      <th>2012-10-04</th>\n",
       "      <td>3475.0</td>\n",
       "    </tr>\n",
       "  </tbody>\n",
       "</table>\n",
       "</div>"
      ],
      "text/plain": [
       "             total\n",
       "Date              \n",
       "2012-10-03  3521.0\n",
       "2012-10-04  3475.0"
      ]
     },
     "execution_count": 122,
     "metadata": {},
     "output_type": "execute_result"
    }
   ],
   "source": [
    "daily = cnts.resample('d').sum()\n",
    "daily['total'] = daily.sum(axis=1)\n",
    "daily_cnts = daily[['total']]\n",
    "daily_cnts.head(2)"
   ]
  },
  {
   "cell_type": "code",
   "execution_count": 123,
   "metadata": {
    "collapsed": false
   },
   "outputs": [
    {
     "name": "stderr",
     "output_type": "stream",
     "text": [
      "C:\\Users\\jli\\AppData\\Local\\Continuum\\Anaconda3\\lib\\site-packages\\ipykernel\\__main__.py:3: SettingWithCopyWarning: \n",
      "A value is trying to be set on a copy of a slice from a DataFrame.\n",
      "Try using .loc[row_indexer,col_indexer] = value instead\n",
      "\n",
      "See the caveats in the documentation: http://pandas.pydata.org/pandas-docs/stable/indexing.html#indexing-view-versus-copy\n",
      "  app.launch_new_instance()\n"
     ]
    },
    {
     "data": {
      "text/html": [
       "<div>\n",
       "<table border=\"1\" class=\"dataframe\">\n",
       "  <thead>\n",
       "    <tr style=\"text-align: right;\">\n",
       "      <th></th>\n",
       "      <th>total</th>\n",
       "      <th>Mon</th>\n",
       "      <th>Tue</th>\n",
       "      <th>Wed</th>\n",
       "      <th>Thu</th>\n",
       "      <th>Fri</th>\n",
       "      <th>Sat</th>\n",
       "      <th>Sun</th>\n",
       "    </tr>\n",
       "    <tr>\n",
       "      <th>Date</th>\n",
       "      <th></th>\n",
       "      <th></th>\n",
       "      <th></th>\n",
       "      <th></th>\n",
       "      <th></th>\n",
       "      <th></th>\n",
       "      <th></th>\n",
       "      <th></th>\n",
       "    </tr>\n",
       "  </thead>\n",
       "  <tbody>\n",
       "    <tr>\n",
       "      <th>2012-10-03</th>\n",
       "      <td>3521.0</td>\n",
       "      <td>0.0</td>\n",
       "      <td>0.0</td>\n",
       "      <td>1.0</td>\n",
       "      <td>0.0</td>\n",
       "      <td>0.0</td>\n",
       "      <td>0.0</td>\n",
       "      <td>0.0</td>\n",
       "    </tr>\n",
       "    <tr>\n",
       "      <th>2012-10-04</th>\n",
       "      <td>3475.0</td>\n",
       "      <td>0.0</td>\n",
       "      <td>0.0</td>\n",
       "      <td>0.0</td>\n",
       "      <td>1.0</td>\n",
       "      <td>0.0</td>\n",
       "      <td>0.0</td>\n",
       "      <td>0.0</td>\n",
       "    </tr>\n",
       "  </tbody>\n",
       "</table>\n",
       "</div>"
      ],
      "text/plain": [
       "             total  Mon  Tue  Wed  Thu  Fri  Sat  Sun\n",
       "Date                                                 \n",
       "2012-10-03  3521.0  0.0  0.0  1.0  0.0  0.0  0.0  0.0\n",
       "2012-10-04  3475.0  0.0  0.0  0.0  1.0  0.0  0.0  0.0"
      ]
     },
     "execution_count": 123,
     "metadata": {},
     "output_type": "execute_result"
    }
   ],
   "source": [
    "days = ['Mon', 'Tue', 'Wed', 'Thu', 'Fri', 'Sat', 'Sun']\n",
    "for i in range(7):\n",
    "    daily_cnts[days[i]] = (daily_cnts.index.dayofweek == i).astype(float)\n",
    "daily_cnts.head(2) "
   ]
  },
  {
   "cell_type": "code",
   "execution_count": 124,
   "metadata": {
    "collapsed": false
   },
   "outputs": [
    {
     "data": {
      "text/html": [
       "<div>\n",
       "<table border=\"1\" class=\"dataframe\">\n",
       "  <thead>\n",
       "    <tr style=\"text-align: right;\">\n",
       "      <th></th>\n",
       "      <th>total</th>\n",
       "      <th>Mon</th>\n",
       "      <th>Tue</th>\n",
       "      <th>Wed</th>\n",
       "      <th>Thu</th>\n",
       "      <th>Fri</th>\n",
       "      <th>Sat</th>\n",
       "      <th>Sun</th>\n",
       "      <th>holiday</th>\n",
       "    </tr>\n",
       "    <tr>\n",
       "      <th>Date</th>\n",
       "      <th></th>\n",
       "      <th></th>\n",
       "      <th></th>\n",
       "      <th></th>\n",
       "      <th></th>\n",
       "      <th></th>\n",
       "      <th></th>\n",
       "      <th></th>\n",
       "      <th></th>\n",
       "    </tr>\n",
       "  </thead>\n",
       "  <tbody>\n",
       "    <tr>\n",
       "      <th>2017-04-29</th>\n",
       "      <td>1358.0</td>\n",
       "      <td>0.0</td>\n",
       "      <td>0.0</td>\n",
       "      <td>0.0</td>\n",
       "      <td>0.0</td>\n",
       "      <td>0.0</td>\n",
       "      <td>1.0</td>\n",
       "      <td>0.0</td>\n",
       "      <td>0.0</td>\n",
       "    </tr>\n",
       "    <tr>\n",
       "      <th>2017-04-30</th>\n",
       "      <td>1215.0</td>\n",
       "      <td>0.0</td>\n",
       "      <td>0.0</td>\n",
       "      <td>0.0</td>\n",
       "      <td>0.0</td>\n",
       "      <td>0.0</td>\n",
       "      <td>0.0</td>\n",
       "      <td>1.0</td>\n",
       "      <td>0.0</td>\n",
       "    </tr>\n",
       "  </tbody>\n",
       "</table>\n",
       "</div>"
      ],
      "text/plain": [
       "             total  Mon  Tue  Wed  Thu  Fri  Sat  Sun  holiday\n",
       "Date                                                          \n",
       "2017-04-29  1358.0  0.0  0.0  0.0  0.0  0.0  1.0  0.0      0.0\n",
       "2017-04-30  1215.0  0.0  0.0  0.0  0.0  0.0  0.0  1.0      0.0"
      ]
     },
     "execution_count": 124,
     "metadata": {},
     "output_type": "execute_result"
    }
   ],
   "source": [
    "from pandas.tseries.holiday import USFederalHolidayCalendar\n",
    "cal = USFederalHolidayCalendar()\n",
    "holidays = cal.holidays('2012', '2017')\n",
    "\n",
    "daily_cnts = daily_cnts.join(pd.Series(1, index=holidays, name='holiday'))\n",
    "daily_cnts['holiday'].fillna(0, inplace=True)\n",
    "daily_cnts.tail(2) "
   ]
  },
  {
   "cell_type": "code",
   "execution_count": 125,
   "metadata": {
    "collapsed": false
   },
   "outputs": [
    {
     "data": {
      "text/html": [
       "<div>\n",
       "<table border=\"1\" class=\"dataframe\">\n",
       "  <thead>\n",
       "    <tr style=\"text-align: right;\">\n",
       "      <th></th>\n",
       "      <th>total</th>\n",
       "      <th>Mon</th>\n",
       "      <th>Tue</th>\n",
       "      <th>Wed</th>\n",
       "      <th>Thu</th>\n",
       "      <th>Fri</th>\n",
       "      <th>Sat</th>\n",
       "      <th>Sun</th>\n",
       "      <th>holiday</th>\n",
       "      <th>daylight_hrs</th>\n",
       "    </tr>\n",
       "    <tr>\n",
       "      <th>Date</th>\n",
       "      <th></th>\n",
       "      <th></th>\n",
       "      <th></th>\n",
       "      <th></th>\n",
       "      <th></th>\n",
       "      <th></th>\n",
       "      <th></th>\n",
       "      <th></th>\n",
       "      <th></th>\n",
       "      <th></th>\n",
       "    </tr>\n",
       "  </thead>\n",
       "  <tbody>\n",
       "    <tr>\n",
       "      <th>2017-04-29</th>\n",
       "      <td>1358.0</td>\n",
       "      <td>0.0</td>\n",
       "      <td>0.0</td>\n",
       "      <td>0.0</td>\n",
       "      <td>0.0</td>\n",
       "      <td>0.0</td>\n",
       "      <td>1.0</td>\n",
       "      <td>0.0</td>\n",
       "      <td>0.0</td>\n",
       "      <td>14.138418</td>\n",
       "    </tr>\n",
       "    <tr>\n",
       "      <th>2017-04-30</th>\n",
       "      <td>1215.0</td>\n",
       "      <td>0.0</td>\n",
       "      <td>0.0</td>\n",
       "      <td>0.0</td>\n",
       "      <td>0.0</td>\n",
       "      <td>0.0</td>\n",
       "      <td>0.0</td>\n",
       "      <td>1.0</td>\n",
       "      <td>0.0</td>\n",
       "      <td>14.190158</td>\n",
       "    </tr>\n",
       "  </tbody>\n",
       "</table>\n",
       "</div>"
      ],
      "text/plain": [
       "             total  Mon  Tue  Wed  Thu  Fri  Sat  Sun  holiday  daylight_hrs\n",
       "Date                                                                        \n",
       "2017-04-29  1358.0  0.0  0.0  0.0  0.0  0.0  1.0  0.0      0.0     14.138418\n",
       "2017-04-30  1215.0  0.0  0.0  0.0  0.0  0.0  0.0  1.0      0.0     14.190158"
      ]
     },
     "execution_count": 125,
     "metadata": {},
     "output_type": "execute_result"
    }
   ],
   "source": [
    "def hours_of_daylight(date, axis=23.44, latitude=47.61):\n",
    "    \"\"\"Compute the hours of daylight for the given date\"\"\"\n",
    "    days = (date - pd.datetime(2000, 12, 21)).days\n",
    "    m = (1. - np.tan(np.radians(latitude))\n",
    "         * np.tan(np.radians(axis) * np.cos(days * 2 * np.pi / 365.25)))\n",
    "    return 24. * np.degrees(np.arccos(1 - np.clip(m, 0, 2))) / 180.\n",
    "\n",
    "daily_cnts['daylight_hrs'] = list(map(hours_of_daylight, daily_cnts.index))\n",
    "daily_cnts.tail(2) "
   ]
  },
  {
   "cell_type": "code",
   "execution_count": 126,
   "metadata": {
    "collapsed": false
   },
   "outputs": [
    {
     "data": {
      "text/html": [
       "<div>\n",
       "<table border=\"1\" class=\"dataframe\">\n",
       "  <thead>\n",
       "    <tr style=\"text-align: right;\">\n",
       "      <th></th>\n",
       "      <th>STATION</th>\n",
       "      <th>STATION_NAME</th>\n",
       "      <th>PRCP</th>\n",
       "      <th>SNWD</th>\n",
       "      <th>SNOW</th>\n",
       "      <th>TAVG</th>\n",
       "      <th>TMAX</th>\n",
       "      <th>TMIN</th>\n",
       "      <th>AWND</th>\n",
       "      <th>WDF2</th>\n",
       "      <th>...</th>\n",
       "      <th>WT17</th>\n",
       "      <th>WT05</th>\n",
       "      <th>WT02</th>\n",
       "      <th>WT22</th>\n",
       "      <th>WT04</th>\n",
       "      <th>WT13</th>\n",
       "      <th>WT16</th>\n",
       "      <th>WT08</th>\n",
       "      <th>WT18</th>\n",
       "      <th>WT03</th>\n",
       "    </tr>\n",
       "    <tr>\n",
       "      <th>DATE</th>\n",
       "      <th></th>\n",
       "      <th></th>\n",
       "      <th></th>\n",
       "      <th></th>\n",
       "      <th></th>\n",
       "      <th></th>\n",
       "      <th></th>\n",
       "      <th></th>\n",
       "      <th></th>\n",
       "      <th></th>\n",
       "      <th></th>\n",
       "      <th></th>\n",
       "      <th></th>\n",
       "      <th></th>\n",
       "      <th></th>\n",
       "      <th></th>\n",
       "      <th></th>\n",
       "      <th></th>\n",
       "      <th></th>\n",
       "      <th></th>\n",
       "      <th></th>\n",
       "    </tr>\n",
       "  </thead>\n",
       "  <tbody>\n",
       "    <tr>\n",
       "      <th>2012-01-01</th>\n",
       "      <td>GHCND:USW00024233</td>\n",
       "      <td>SEATTLE TACOMA INTERNATIONAL AIRPORT WA US</td>\n",
       "      <td>0.00</td>\n",
       "      <td>0.0</td>\n",
       "      <td>0.0</td>\n",
       "      <td>-9999</td>\n",
       "      <td>55</td>\n",
       "      <td>41</td>\n",
       "      <td>10.5</td>\n",
       "      <td>100</td>\n",
       "      <td>...</td>\n",
       "      <td>-9999</td>\n",
       "      <td>-9999</td>\n",
       "      <td>-9999</td>\n",
       "      <td>-9999</td>\n",
       "      <td>-9999</td>\n",
       "      <td>-9999</td>\n",
       "      <td>-9999</td>\n",
       "      <td>-9999</td>\n",
       "      <td>-9999</td>\n",
       "      <td>-9999</td>\n",
       "    </tr>\n",
       "    <tr>\n",
       "      <th>2012-01-02</th>\n",
       "      <td>GHCND:USW00024233</td>\n",
       "      <td>SEATTLE TACOMA INTERNATIONAL AIRPORT WA US</td>\n",
       "      <td>0.43</td>\n",
       "      <td>0.0</td>\n",
       "      <td>0.0</td>\n",
       "      <td>-9999</td>\n",
       "      <td>51</td>\n",
       "      <td>37</td>\n",
       "      <td>10.1</td>\n",
       "      <td>180</td>\n",
       "      <td>...</td>\n",
       "      <td>-9999</td>\n",
       "      <td>-9999</td>\n",
       "      <td>-9999</td>\n",
       "      <td>-9999</td>\n",
       "      <td>-9999</td>\n",
       "      <td>1</td>\n",
       "      <td>1</td>\n",
       "      <td>-9999</td>\n",
       "      <td>-9999</td>\n",
       "      <td>-9999</td>\n",
       "    </tr>\n",
       "  </tbody>\n",
       "</table>\n",
       "<p>2 rows × 26 columns</p>\n",
       "</div>"
      ],
      "text/plain": [
       "                      STATION                                STATION_NAME  \\\n",
       "DATE                                                                        \n",
       "2012-01-01  GHCND:USW00024233  SEATTLE TACOMA INTERNATIONAL AIRPORT WA US   \n",
       "2012-01-02  GHCND:USW00024233  SEATTLE TACOMA INTERNATIONAL AIRPORT WA US   \n",
       "\n",
       "            PRCP  SNWD  SNOW  TAVG  TMAX  TMIN  AWND  WDF2  ...   WT17  WT05  \\\n",
       "DATE                                                        ...                \n",
       "2012-01-01  0.00   0.0   0.0 -9999    55    41  10.5   100  ...  -9999 -9999   \n",
       "2012-01-02  0.43   0.0   0.0 -9999    51    37  10.1   180  ...  -9999 -9999   \n",
       "\n",
       "            WT02  WT22  WT04  WT13  WT16  WT08  WT18  WT03  \n",
       "DATE                                                        \n",
       "2012-01-01 -9999 -9999 -9999 -9999 -9999 -9999 -9999 -9999  \n",
       "2012-01-02 -9999 -9999 -9999     1     1 -9999 -9999 -9999  \n",
       "\n",
       "[2 rows x 26 columns]"
      ]
     },
     "execution_count": 126,
     "metadata": {},
     "output_type": "execute_result"
    }
   ],
   "source": [
    "weathers = pd.read_csv('weather.csv', index_col='DATE', parse_dates=True)\n",
    "weathers.head(2)"
   ]
  },
  {
   "cell_type": "code",
   "execution_count": 127,
   "metadata": {
    "collapsed": false
   },
   "outputs": [],
   "source": [
    "weathers['TMIN'] = (weathers['TMIN'] - 32) * 5 /9\n",
    "weathers['TMAX'] = (weathers['TMAX'] - 32) * 5 /9\n",
    "weathers['Temp(C)'] = 0.5 * (weathers['TMIN'] + weathers['TMAX'])\n",
    "\n",
    "weathers['PRCP'] /= 254\n",
    "weathers['dry day'] = (weathers['PRCP'] == 0).astype(int)"
   ]
  },
  {
   "cell_type": "code",
   "execution_count": 128,
   "metadata": {
    "collapsed": false
   },
   "outputs": [
    {
     "data": {
      "text/html": [
       "<div>\n",
       "<table border=\"1\" class=\"dataframe\">\n",
       "  <thead>\n",
       "    <tr style=\"text-align: right;\">\n",
       "      <th></th>\n",
       "      <th>total</th>\n",
       "      <th>Mon</th>\n",
       "      <th>Tue</th>\n",
       "      <th>Wed</th>\n",
       "      <th>Thu</th>\n",
       "      <th>Fri</th>\n",
       "      <th>Sat</th>\n",
       "      <th>Sun</th>\n",
       "      <th>holiday</th>\n",
       "      <th>daylight_hrs</th>\n",
       "      <th>SNWD</th>\n",
       "      <th>SNOW</th>\n",
       "      <th>PRCP</th>\n",
       "      <th>Temp(C)</th>\n",
       "      <th>dry day</th>\n",
       "    </tr>\n",
       "    <tr>\n",
       "      <th>Date</th>\n",
       "      <th></th>\n",
       "      <th></th>\n",
       "      <th></th>\n",
       "      <th></th>\n",
       "      <th></th>\n",
       "      <th></th>\n",
       "      <th></th>\n",
       "      <th></th>\n",
       "      <th></th>\n",
       "      <th></th>\n",
       "      <th></th>\n",
       "      <th></th>\n",
       "      <th></th>\n",
       "      <th></th>\n",
       "      <th></th>\n",
       "    </tr>\n",
       "  </thead>\n",
       "  <tbody>\n",
       "    <tr>\n",
       "      <th>2012-10-03</th>\n",
       "      <td>3521.0</td>\n",
       "      <td>0.0</td>\n",
       "      <td>0.0</td>\n",
       "      <td>1.0</td>\n",
       "      <td>0.0</td>\n",
       "      <td>0.0</td>\n",
       "      <td>0.0</td>\n",
       "      <td>0.0</td>\n",
       "      <td>0.0</td>\n",
       "      <td>11.277359</td>\n",
       "      <td>0.0</td>\n",
       "      <td>0.0</td>\n",
       "      <td>0.0</td>\n",
       "      <td>13.333333</td>\n",
       "      <td>1</td>\n",
       "    </tr>\n",
       "    <tr>\n",
       "      <th>2012-10-04</th>\n",
       "      <td>3475.0</td>\n",
       "      <td>0.0</td>\n",
       "      <td>0.0</td>\n",
       "      <td>0.0</td>\n",
       "      <td>1.0</td>\n",
       "      <td>0.0</td>\n",
       "      <td>0.0</td>\n",
       "      <td>0.0</td>\n",
       "      <td>0.0</td>\n",
       "      <td>11.219142</td>\n",
       "      <td>0.0</td>\n",
       "      <td>0.0</td>\n",
       "      <td>0.0</td>\n",
       "      <td>13.611111</td>\n",
       "      <td>1</td>\n",
       "    </tr>\n",
       "  </tbody>\n",
       "</table>\n",
       "</div>"
      ],
      "text/plain": [
       "             total  Mon  Tue  Wed  Thu  Fri  Sat  Sun  holiday  daylight_hrs  \\\n",
       "Date                                                                           \n",
       "2012-10-03  3521.0  0.0  0.0  1.0  0.0  0.0  0.0  0.0      0.0     11.277359   \n",
       "2012-10-04  3475.0  0.0  0.0  0.0  1.0  0.0  0.0  0.0      0.0     11.219142   \n",
       "\n",
       "            SNWD  SNOW  PRCP    Temp(C)  dry day  \n",
       "Date                                              \n",
       "2012-10-03   0.0   0.0   0.0  13.333333        1  \n",
       "2012-10-04   0.0   0.0   0.0  13.611111        1  "
      ]
     },
     "execution_count": 128,
     "metadata": {},
     "output_type": "execute_result"
    }
   ],
   "source": [
    "daily_cnts = daily_cnts.join(weathers[['SNWD','SNOW', 'PRCP', 'Temp(C)', 'dry day']])\n",
    "daily_cnts.head(2)"
   ]
  },
  {
   "cell_type": "code",
   "execution_count": 129,
   "metadata": {
    "collapsed": false
   },
   "outputs": [],
   "source": [
    "daily_cnts.dropna(axis=0, how='any', inplace=True)\n",
    "\n",
    "column_names = ['Mon', 'Tue', 'Wed', 'Thu', 'Fri', 'Sat', 'Sun', 'holiday',\n",
    "                'daylight_hrs', 'PRCP', 'dry day', 'Temp(C)','SNWD','SNOW']\n",
    "y = daily_cnts['total']\n",
    "X = daily_cnts[column_names]"
   ]
  },
  {
   "cell_type": "code",
   "execution_count": 130,
   "metadata": {
    "collapsed": false
   },
   "outputs": [
    {
     "name": "stdout",
     "output_type": "stream",
     "text": [
      "1671\n",
      "(1671, 14)\n"
     ]
    }
   ],
   "source": [
    "print(y.size)\n",
    "print(X.shape)"
   ]
  },
  {
   "cell_type": "code",
   "execution_count": 131,
   "metadata": {
    "collapsed": false
   },
   "outputs": [],
   "source": [
    "model = LinearRegression(fit_intercept=False)\n",
    "model.fit(X, y)\n",
    "daily_cnts['predicted'] = model.predict(X)"
   ]
  },
  {
   "cell_type": "code",
   "execution_count": 132,
   "metadata": {
    "collapsed": false
   },
   "outputs": [
    {
     "data": {
      "image/png": "[encoded data removed]",
      "text/plain": [
       "<matplotlib.figure.Figure at 0x22fcaee4780>"
      ]
     },
     "metadata": {},
     "output_type": "display_data"
    }
   ],
   "source": [
    "daily_cnts[['total', 'predicted']].plot(alpha=0.5);"
   ]
  },
  {
   "cell_type": "code",
   "execution_count": 133,
   "metadata": {
    "collapsed": false
   },
   "outputs": [
    {
     "data": {
      "text/plain": [
       "Mon                726.920148\n",
       "Tue                860.602227\n",
       "Wed                827.766745\n",
       "Thu                699.779354\n",
       "Fri                363.237112\n",
       "Sat               -934.288992\n",
       "Sun               -983.255250\n",
       "holiday          -1144.359213\n",
       "daylight_hrs       109.367655\n",
       "PRCP           -171534.991120\n",
       "dry day            510.191575\n",
       "Temp(C)             73.901950\n",
       "SNWD              -206.485174\n",
       "SNOW                89.585610\n",
       "dtype: float64"
      ]
     },
     "execution_count": 133,
     "metadata": {},
     "output_type": "execute_result"
    }
   ],
   "source": [
    "params = pd.Series(model.coef_, index=X.columns)\n",
    "params"
   ]
  },
  {
   "cell_type": "code",
   "execution_count": 134,
   "metadata": {
    "collapsed": true
   },
   "outputs": [],
   "source": [
    "from sklearn.utils import resample\n",
    "\n",
    "np.random.seed(1)\n",
    "err = np.std([model.fit(*resample(X,y)).coef_ for i in range(1000)], 0)"
   ]
  },
  {
   "cell_type": "code",
   "execution_count": 136,
   "metadata": {
    "collapsed": false
   },
   "outputs": [
    {
     "name": "stdout",
     "output_type": "stream",
     "text": [
      "                effect    error\n",
      "Mon              727.0     70.0\n",
      "Tue              861.0     72.0\n",
      "Wed              828.0     72.0\n",
      "Thu              700.0     71.0\n",
      "Fri              363.0     68.0\n",
      "Sat             -934.0     68.0\n",
      "Sun             -983.0     70.0\n",
      "holiday        -1144.0    122.0\n",
      "daylight_hrs     109.0      7.0\n",
      "PRCP         -171535.0  12049.0\n",
      "dry day          510.0     26.0\n",
      "Temp(C)           74.0      3.0\n",
      "SNWD            -206.0     97.0\n",
      "SNOW              90.0    122.0\n"
     ]
    }
   ],
   "source": [
    "print(pd.DataFrame({'effect': params.round(0), 'error':err.round(0)}))"
   ]
  },
  {
   "cell_type": "code",
   "execution_count": null,
   "metadata": {
    "collapsed": true
   },
   "outputs": [],
   "source": []
  }
 ],
 "metadata": {
  "kernelspec": {
   "display_name": "Python 3",
   "language": "python",
   "name": "python3"
  },
  "language_info": {
   "codemirror_mode": {
    "name": "ipython",
    "version": 3
   },
   "file_extension": ".py",
   "mimetype": "text/x-python",
   "name": "python",
   "nbconvert_exporter": "python",
   "pygments_lexer": "ipython3",
   "version": "3.6.0"
  }
 },
 "nbformat": 4,
 "nbformat_minor": 0
}
