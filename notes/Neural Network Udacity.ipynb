{
 "cells": [
  {
   "cell_type": "code",
   "execution_count": 6,
   "metadata": {
    "collapsed": true
   },
   "outputs": [],
   "source": [
    "# ----------\n",
    "#\n",
    "# In this exercise, you will update the perceptron class so that it can update\n",
    "# its weights.\n",
    "#\n",
    "# Finish writing the update() method so that it updates the weights according\n",
    "# to the perceptron update rule.\n",
    "# \n",
    "# ----------\n",
    "\n",
    "import numpy as np\n",
    "\n",
    "\n",
    "class Perceptron:\n",
    "    \"\"\"\n",
    "    This class models an artificial neuron with step activation function.\n",
    "    \"\"\"\n",
    "\n",
    "    def __init__(self, weights = np.array([1]), threshold = 0):\n",
    "        \"\"\"\n",
    "        Initialize weights and threshold based on input arguments. Note that no\n",
    "        type-checking is being performed here for simplicity.\n",
    "        \"\"\"\n",
    "        self.weights = weights * 1.0\n",
    "        self.threshold = threshold\n",
    "\n",
    "\n",
    "    def activate(self, values):\n",
    "        \"\"\"\n",
    "        Takes in @param values, a list of numbers equal to length of weights.\n",
    "        @return the output of a threshold perceptron with given inputs based on\n",
    "        perceptron weights and threshold.\n",
    "        \"\"\"\n",
    "               \n",
    "        # First calculate the strength with which the perceptron fires\n",
    "        strength = np.dot(values,self.weights)\n",
    "        \n",
    "        # Then return 0 or 1 depending on strength compared to threshold  \n",
    "        return int(strength > self.threshold)\n",
    "\n",
    "\n",
    "    def update(self, values, train, eta=.1):\n",
    "        \"\"\"\n",
    "        Takes in a 2D array @param values consisting of a LIST of inputs and a\n",
    "        1D array @param train, consisting of a corresponding list of expected\n",
    "        outputs. Updates internal weights according to the perceptron training\n",
    "        rule using these values and an optional learning rate, @param eta.\n",
    "        \"\"\"\n",
    "\n",
    "        # method 1\n",
    "        \"\"\"\n",
    "        for i, item in enumerate(values):\n",
    "            train_hat = self.activate(item)\n",
    "            self.weights += (eta * (train[i] - train_hat)) * item\n",
    "\n",
    "        \"\"\"\n",
    "        # method 2\n",
    "        for i, item in enumerate(values):\n",
    "            train_hat = self.activate(item)\n",
    "            for j, val in enumerate(item):\n",
    "                self.weights[j] += eta * (train[i] - train_hat) * val\n",
    "\n",
    "        return self.weights\n",
    "            # TODO: update self.weights based on prediction accuracy, learning\n",
    "            # rate and input value"
   ]
  },
  {
   "cell_type": "code",
   "execution_count": 10,
   "metadata": {
    "collapsed": false
   },
   "outputs": [
    {
     "name": "stdout",
     "output_type": "stream",
     "text": [
      "[ 2.8  0.2  1.6]\n",
      "[ 2.7 -0.1  1.8]\n",
      "[ 2.7 -0.3  1.7]\n"
     ]
    }
   ],
   "source": [
    "# check how the perceptron get updated\n",
    "\n",
    "p1 = Perceptron(np.array([3,0,2]),0)\n",
    "p2 = Perceptron(np.array([3,0,2]),0)\n",
    "p3 = Perceptron(np.array([3,0,2]),0)\n",
    "\n",
    "p1.update(np.array([[2,-2,4]]),np.array([0]))\n",
    "p2.update(np.array([[2,-2,4],[-1,-3,2]]),np.array([0,1]))\n",
    "p3.update(np.array([[2,-2,4],[-1,-3,2],[0,2,1]]),np.array([0,1,0]))\n",
    "\n",
    "print (p1.weights)\n",
    "print (p2.weights)\n",
    "print (p3.weights)"
   ]
  },
  {
   "cell_type": "markdown",
   "metadata": {
    "collapsed": true
   },
   "source": [
    "### Layered network example\n",
    "\n",
    "A layered network represents as follow:\n",
    "\n",
    "[[ node, node, node],   # input  layer \n",
    "\n",
    "[node, node],           # hidden layer \n",
    "\n",
    "[node]]                 # output layer \n",
    "\n",
    "Give the weights for the hidden layer of [1,1,-5], and [3,-4,2] and weights for the output layer of [2,-1], what will this network output for inputs [1,2,3]?"
   ]
  },
  {
   "cell_type": "code",
   "execution_count": 14,
   "metadata": {
    "collapsed": false
   },
   "outputs": [
    {
     "name": "stdout",
     "output_type": "stream",
     "text": [
      "-25\n"
     ]
    }
   ],
   "source": [
    "# hiden layers\n",
    "\n",
    "output = np.dot([np.dot([1,2,3], [1,1,-5]), np.dot([1,2,3], [3,-4,2])], [2,-1])\n",
    "print output"
   ]
  },
  {
   "cell_type": "markdown",
   "metadata": {},
   "source": [
    "### Linear Representation Power\n",
    "\n",
    "Given the following network, where each node simply passes along the dot product of its inputs with its weights, write down the weights of a single linear node that computes the same function.\n",
    "\n",
    "[[input, input],\n",
    "[[3,2], [-1,4], [3,-5]],\n",
    "[[1,2,-1]]]"
   ]
  },
  {
   "cell_type": "code",
   "execution_count": 17,
   "metadata": {
    "collapsed": false
   },
   "outputs": [
    {
     "data": {
      "text/plain": [
       "[-2, 15]"
      ]
     },
     "execution_count": 17,
     "metadata": {},
     "output_type": "execute_result"
    }
   ],
   "source": [
    "# Try setting all the inputs to zero, then modifying one input to 1 to get the slopes\n",
    "[np.dot([np.dot([1,0], [3,2]), np.dot([1,0], [-1,4]),  np.dot([1,0], [3,-5])], [1, 2,-1]),\n",
    "np.dot([np.dot([0,1], [3,2]), np.dot([0,1], [-1,4]),  np.dot([0,1], [3,-5])], [1, 2,-1])]"
   ]
  },
  {
   "cell_type": "code",
   "execution_count": null,
   "metadata": {
    "collapsed": true
   },
   "outputs": [],
   "source": []
  }
 ],
 "metadata": {
  "kernelspec": {
   "display_name": "Python 2",
   "language": "python",
   "name": "python2"
  },
  "language_info": {
   "codemirror_mode": {
    "name": "ipython",
    "version": 2
   },
   "file_extension": ".py",
   "mimetype": "text/x-python",
   "name": "python",
   "nbconvert_exporter": "python",
   "pygments_lexer": "ipython2",
   "version": "2.7.11"
  }
 },
 "nbformat": 4,
 "nbformat_minor": 0
}
